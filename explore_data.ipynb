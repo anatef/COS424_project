{
 "cells": [
  {
   "cell_type": "code",
   "execution_count": 3,
   "metadata": {
    "collapsed": false
   },
   "outputs": [
    {
     "data": {
      "text/html": [
       "<style>.container { width:100% !important; }</style>"
      ],
      "text/plain": [
       "<IPython.core.display.HTML object>"
      ]
     },
     "execution_count": 3,
     "metadata": {},
     "output_type": "execute_result"
    }
   ],
   "source": [
    "%matplotlib inline\n",
    "\n",
    "import numpy as np\n",
    "import pandas as pd\n",
    "import pickle\n",
    "import matplotlib.pyplot as plt\n",
    "import fileinput\n",
    "\n",
    "#Fit the code to the screen\n",
    "from IPython.core.display import HTML\n",
    "HTML(\"<style>.container { width:100% !important; }</style>\")"
   ]
  },
  {
   "cell_type": "code",
   "execution_count": 4,
   "metadata": {
    "collapsed": false
   },
   "outputs": [],
   "source": [
    "#Reading the movies data\n",
    "my_path = !pwd\n",
    "movies_filename = \"/ml-20/movies.csv\"\n",
    "dfmovies = pd.read_csv(my_path[0]+movies_filename, index_col=None, sep=',')"
   ]
  },
  {
   "cell_type": "code",
   "execution_count": 3,
   "metadata": {
    "collapsed": false
   },
   "outputs": [],
   "source": [
    "#Extract the year from the title\n",
    "dfmovies[\"year\"] = dfmovies['title'].apply(lambda x: x[x.rfind(\"(\")+1:x.rfind(\")\")])\n",
    "dfmovies[\"name\"] = dfmovies['title'].apply(lambda x: x[:x.rfind(\"(\")-1])\n",
    "del dfmovies['title']\n",
    "#Get the columns to the original order\n",
    "cols = dfmovies.columns.tolist()\n",
    "cols = cols[:1] + cols[-1:] + cols[-2:-1] + cols[1:2]\n",
    "dfmovies = dfmovies[cols]"
   ]
  },
  {
   "cell_type": "code",
   "execution_count": 4,
   "metadata": {
    "collapsed": true
   },
   "outputs": [],
   "source": [
    "#Reading the ratings data\n",
    "ratings_filename = \"/ml-20/ratings.csv\"\n",
    "dfratings = pd.read_csv(my_path[0]+ratings_filename, index_col=None, sep=',')my_path[0]+ratings_filename, index_col=None, sep=',')"
   ]
  },
  {
   "cell_type": "code",
   "execution_count": null,
   "metadata": {
    "collapsed": false
   },
   "outputs": [],
   "source": [
    "#Check how many movies have enough ratings\n",
    "ratings_num = []\n",
    "movie_ids = (dfratings[\"movieId\"]).unique()\n",
    "for movie in movie_ids:\n",
    "    ratings_num.append(dfratings[dfratings[\"movieId\"] == movie].shape[0])"
   ]
  },
  {
   "cell_type": "code",
   "execution_count": 70,
   "metadata": {
    "collapsed": false
   },
   "outputs": [
    {
     "name": "stdout",
     "output_type": "stream",
     "text": [
      "[175]\n"
     ]
    }
   ],
   "source": []
  },
  {
   "cell_type": "code",
   "execution_count": null,
   "metadata": {
    "collapsed": false
   },
   "outputs": [],
   "source": [
    "#Create df of movies ids and ratings count\n",
    "ratings_cnt = pd.DataFrame([movie_ids, ratings_num])\n",
    "ratings_cnt = ratings_cnt.transpose()\n",
    "ratings_cnt.columns = [\"movieId\", \"ratingsCount\"]"
   ]
  },
  {
   "cell_type": "code",
   "execution_count": null,
   "metadata": {
    "collapsed": false
   },
   "outputs": [],
   "source": [
    "with open(my_path[0]+'/explore/ratings_cnt.pik', 'wb') as handle:\n",
    "    pickle.dump(ratings_cnt, handle, protocol=pickle.HIGHEST_PROTOCOL)"
   ]
  },
  {
   "cell_type": "code",
   "execution_count": 74,
   "metadata": {
    "collapsed": false
   },
   "outputs": [],
   "source": [
    "#Create df of user ids and ratings count\n",
    "user_ratings_filename = \"/ml-20/usersCnt.csv\"\n",
    "user_ratings_cnt = pd.read_csv(my_path[0]+user_ratings_filename, index_col=None, sep=',')"
   ]
  },
  {
   "cell_type": "code",
   "execution_count": 78,
   "metadata": {
    "collapsed": false
   },
   "outputs": [],
   "source": [
    "user_ratings_cnt[\"ratingsCount\"].describe()\n",
    "with open(my_path[0]+'/explore/user_ratings_cnt.pik', 'wb') as handle:\n",
    "    pickle.dump(user_ratings_cnt, handle, protocol=pickle.HIGHEST_PROTOCOL)"
   ]
  },
  {
   "cell_type": "code",
   "execution_count": null,
   "metadata": {
    "collapsed": false
   },
   "outputs": [],
   "source": [
    "(n, bins, patches) = plt.hist(ratings_cnt[\"ratingsCount\"], bins=np.arange(1,1000, 100))\n",
    "plt.show()"
   ]
  },
  {
   "cell_type": "code",
   "execution_count": 5,
   "metadata": {
    "collapsed": false
   },
   "outputs": [
    {
     "data": {
      "text/plain": [
       "count    138492.000000\n",
       "mean        144.411879\n",
       "std         230.267269\n",
       "min          20.000000\n",
       "25%          35.000000\n",
       "50%          68.000000\n",
       "75%         155.000000\n",
       "max        9254.000000\n",
       "Name: ratingsCount, dtype: float64"
      ]
     },
     "execution_count": 5,
     "metadata": {},
     "output_type": "execute_result"
    }
   ],
   "source": [
    "# Get movie and user ratings\n",
    "ratings_cnt = pickle.load(open(my_path[0]+'/explore/ratings_cnt.pik', 'rb'))\n",
    "user_ratings_cnt = pickle.load(open(my_path[0]+'/explore/user_ratings_cnt.pik', 'rb'))\n",
    "#ratings_cnt.describe()\n",
    "user_ratings_cnt[\"ratingsCount\"].describe()"
   ]
  },
  {
   "cell_type": "code",
   "execution_count": 8,
   "metadata": {
    "collapsed": false
   },
   "outputs": [
    {
     "data": {
      "text/plain": [
       "count    26744.000000\n",
       "mean       747.841123\n",
       "std       3085.818268\n",
       "min          1.000000\n",
       "25%          3.000000\n",
       "50%         18.000000\n",
       "75%        205.000000\n",
       "max      67310.000000\n",
       "Name: ratingsCount, dtype: float64"
      ]
     },
     "execution_count": 8,
     "metadata": {},
     "output_type": "execute_result"
    }
   ],
   "source": [
    "ratings_cnt[\"ratingsCount\"].describe()"
   ]
  },
  {
   "cell_type": "code",
   "execution_count": 51,
   "metadata": {
    "collapsed": false
   },
   "outputs": [
    {
     "name": "stdout",
     "output_type": "stream",
     "text": [
      "[ 0.03238454  0.05479739  0.07524622 ...,  0.99999278  0.99999278  1.        ]\n",
      "[ 0.03238454  0.05479739  0.07524622 ...,  0.99999278  0.99999278  1.        ]\n",
      "346\n",
      "193\n"
     ]
    },
    {
     "data": {
      "image/png": "[encoded data removed]",
      "text/plain": [
       "<matplotlib.figure.Figure at 0x7fbb4e7c1250>"
      ]
     },
     "metadata": {},
     "output_type": "display_data"
    }
   ],
   "source": [
    "NUM_MOVIE_BINS = max(ratings_cnt[\"ratingsCount\"])-min(ratings_cnt[\"ratingsCount\"])\n",
    "NUM_USER_BINS = max(user_ratings_cnt[\"ratingsCount\"])-min(user_ratings_cnt[\"ratingsCount\"])\n",
    "movie_counts, bin_edges = np.histogram(ratings_cnt[\"ratingsCount\"], bins=NUM_MOVIE_BINS)\n",
    "movie_cdf = np.cumsum(movie_counts,dtype=float)\n",
    "\n",
    "user_counts, bin_edges = np.histogram(user_ratings_cnt[\"ratingsCount\"], bins=NUM_USER_BINS,density=True)\n",
    "user_cdf = np.cumsum(user_counts,dtype=float)\n",
    "print user_cdf\n",
    "movie_cdf_normalized = movie_cdf/max(movie_cdf)*100.0\n",
    "user_cdf_normalized = user_cdf/max(user_cdf)*100.0\n",
    "print user_cdf\n",
    "#print user_cdf\n",
    "fig,ax = plt.subplots()\n",
    "fig.set_size_inches(10,10)\n",
    "XMIN = 10.0\n",
    "XMAX = 20000\n",
    "plt.xlim(xmin=XMIN,xmax=XMAX)\n",
    "plt.ylim(ymin=0.0,ymax=105)\n",
    "CUTOFF_PERCENTILE = 80.0\n",
    "for i in range(NUM_MOVIE_BINS):\n",
    "    if movie_cdf_normalized[i] >= CUTOFF_PERCENTILE: \n",
    "        movie_cutoff = i+min(ratings_cnt[\"ratingsCount\"])\n",
    "        print movie_cutoff\n",
    "        break\n",
    "for i in range(NUM_USER_BINS):\n",
    "    if user_cdf_normalized[i] >= CUTOFF_PERCENTILE: \n",
    "        user_cutoff = i+min(user_ratings_cnt[\"ratingsCount\"])\n",
    "        print user_cutoff\n",
    "        break\n",
    "        \n",
    "        \n",
    "        \n",
    "ax.set_xscale('symlog', basex=10)\n",
    "\n",
    "plt.plot(movie_cdf_normalized,linewidth=4,linestyle=\"-\",color=\"#008000\")\n",
    "plt.plot(user_cdf_normalized,linewidth=4,linestyle=\":\",color=\"#0000ff\")\n",
    "plt.plot([XMIN, XMAX], [CUTOFF_PERCENTILE, CUTOFF_PERCENTILE], linewidth=1, linestyle=\"--\",color=\"#ff0000\")\n",
    "ax.set_title(\"MovieLens 20M: Movie and User Ratings\",fontsize=18)\n",
    "ax.set_xlabel(\"Ratings\",fontsize=14)\n",
    "ax.set_ylabel(\"Fraction(%)\",fontsize=14)\n",
    "ax.legend([\"Movies\",\"Users\"],loc=\"upper left\",fontsize=18)\n",
    "ax.text(movie_cutoff-2,CUTOFF_PERCENTILE-2,str(movie_cutoff),color=\"#ff0000\")\n",
    "ax.text(user_cutoff-2,CUTOFF_PERCENTILE-2,str(user_cutoff),color=\"#ff0000\")\n",
    "plt.xticks([10,100,1000,10000],[\"10\",\"100\",\"1000\",\"10000\"])\n",
    "plt.savefig(\"movies_and_user_histogram.pdf\",dpi=200)"
   ]
  },
  {
   "cell_type": "code",
   "execution_count": 55,
   "metadata": {
    "collapsed": false
   },
   "outputs": [
    {
     "data": {
      "text/html": [
       "<div>\n",
       "<table border=\"1\" class=\"dataframe\">\n",
       "  <thead>\n",
       "    <tr style=\"text-align: right;\">\n",
       "      <th></th>\n",
       "      <th>movieId</th>\n",
       "      <th>ratingsCount</th>\n",
       "    </tr>\n",
       "  </thead>\n",
       "  <tbody>\n",
       "    <tr>\n",
       "      <th>0</th>\n",
       "      <td>2</td>\n",
       "      <td>22243</td>\n",
       "    </tr>\n",
       "    <tr>\n",
       "      <th>1</th>\n",
       "      <td>29</td>\n",
       "      <td>8520</td>\n",
       "    </tr>\n",
       "    <tr>\n",
       "      <th>2</th>\n",
       "      <td>32</td>\n",
       "      <td>44980</td>\n",
       "    </tr>\n",
       "    <tr>\n",
       "      <th>3</th>\n",
       "      <td>47</td>\n",
       "      <td>43249</td>\n",
       "    </tr>\n",
       "    <tr>\n",
       "      <th>4</th>\n",
       "      <td>50</td>\n",
       "      <td>47006</td>\n",
       "    </tr>\n",
       "    <tr>\n",
       "      <th>5</th>\n",
       "      <td>112</td>\n",
       "      <td>11890</td>\n",
       "    </tr>\n",
       "    <tr>\n",
       "      <th>6</th>\n",
       "      <td>151</td>\n",
       "      <td>12616</td>\n",
       "    </tr>\n",
       "    <tr>\n",
       "      <th>7</th>\n",
       "      <td>223</td>\n",
       "      <td>23695</td>\n",
       "    </tr>\n",
       "    <tr>\n",
       "      <th>8</th>\n",
       "      <td>253</td>\n",
       "      <td>27568</td>\n",
       "    </tr>\n",
       "    <tr>\n",
       "      <th>9</th>\n",
       "      <td>260</td>\n",
       "      <td>54502</td>\n",
       "    </tr>\n",
       "    <tr>\n",
       "      <th>10</th>\n",
       "      <td>293</td>\n",
       "      <td>25804</td>\n",
       "    </tr>\n",
       "    <tr>\n",
       "      <th>11</th>\n",
       "      <td>296</td>\n",
       "      <td>67310</td>\n",
       "    </tr>\n",
       "    <tr>\n",
       "      <th>12</th>\n",
       "      <td>318</td>\n",
       "      <td>63366</td>\n",
       "    </tr>\n",
       "    <tr>\n",
       "      <th>13</th>\n",
       "      <td>337</td>\n",
       "      <td>17881</td>\n",
       "    </tr>\n",
       "    <tr>\n",
       "      <th>14</th>\n",
       "      <td>367</td>\n",
       "      <td>34384</td>\n",
       "    </tr>\n",
       "    <tr>\n",
       "      <th>15</th>\n",
       "      <td>541</td>\n",
       "      <td>30526</td>\n",
       "    </tr>\n",
       "    <tr>\n",
       "      <th>16</th>\n",
       "      <td>589</td>\n",
       "      <td>52244</td>\n",
       "    </tr>\n",
       "    <tr>\n",
       "      <th>17</th>\n",
       "      <td>593</td>\n",
       "      <td>63299</td>\n",
       "    </tr>\n",
       "    <tr>\n",
       "      <th>18</th>\n",
       "      <td>653</td>\n",
       "      <td>14192</td>\n",
       "    </tr>\n",
       "    <tr>\n",
       "      <th>19</th>\n",
       "      <td>919</td>\n",
       "      <td>23445</td>\n",
       "    </tr>\n",
       "    <tr>\n",
       "      <th>20</th>\n",
       "      <td>924</td>\n",
       "      <td>25253</td>\n",
       "    </tr>\n",
       "    <tr>\n",
       "      <th>21</th>\n",
       "      <td>1009</td>\n",
       "      <td>2604</td>\n",
       "    </tr>\n",
       "    <tr>\n",
       "      <th>22</th>\n",
       "      <td>1036</td>\n",
       "      <td>30399</td>\n",
       "    </tr>\n",
       "    <tr>\n",
       "      <th>23</th>\n",
       "      <td>1079</td>\n",
       "      <td>19674</td>\n",
       "    </tr>\n",
       "    <tr>\n",
       "      <th>24</th>\n",
       "      <td>1080</td>\n",
       "      <td>20557</td>\n",
       "    </tr>\n",
       "    <tr>\n",
       "      <th>25</th>\n",
       "      <td>1089</td>\n",
       "      <td>27635</td>\n",
       "    </tr>\n",
       "    <tr>\n",
       "      <th>26</th>\n",
       "      <td>1090</td>\n",
       "      <td>15808</td>\n",
       "    </tr>\n",
       "    <tr>\n",
       "      <th>27</th>\n",
       "      <td>1097</td>\n",
       "      <td>32685</td>\n",
       "    </tr>\n",
       "    <tr>\n",
       "      <th>28</th>\n",
       "      <td>1136</td>\n",
       "      <td>33024</td>\n",
       "    </tr>\n",
       "    <tr>\n",
       "      <th>29</th>\n",
       "      <td>1193</td>\n",
       "      <td>29932</td>\n",
       "    </tr>\n",
       "    <tr>\n",
       "      <th>...</th>\n",
       "      <td>...</td>\n",
       "      <td>...</td>\n",
       "    </tr>\n",
       "    <tr>\n",
       "      <th>9704</th>\n",
       "      <td>7115</td>\n",
       "      <td>410</td>\n",
       "    </tr>\n",
       "    <tr>\n",
       "      <th>9749</th>\n",
       "      <td>3746</td>\n",
       "      <td>367</td>\n",
       "    </tr>\n",
       "    <tr>\n",
       "      <th>9752</th>\n",
       "      <td>5348</td>\n",
       "      <td>541</td>\n",
       "    </tr>\n",
       "    <tr>\n",
       "      <th>9754</th>\n",
       "      <td>2437</td>\n",
       "      <td>778</td>\n",
       "    </tr>\n",
       "    <tr>\n",
       "      <th>9758</th>\n",
       "      <td>73854</td>\n",
       "      <td>413</td>\n",
       "    </tr>\n",
       "    <tr>\n",
       "      <th>9762</th>\n",
       "      <td>3929</td>\n",
       "      <td>703</td>\n",
       "    </tr>\n",
       "    <tr>\n",
       "      <th>9790</th>\n",
       "      <td>2284</td>\n",
       "      <td>353</td>\n",
       "    </tr>\n",
       "    <tr>\n",
       "      <th>9797</th>\n",
       "      <td>5498</td>\n",
       "      <td>446</td>\n",
       "    </tr>\n",
       "    <tr>\n",
       "      <th>9809</th>\n",
       "      <td>7206</td>\n",
       "      <td>475</td>\n",
       "    </tr>\n",
       "    <tr>\n",
       "      <th>9862</th>\n",
       "      <td>6614</td>\n",
       "      <td>370</td>\n",
       "    </tr>\n",
       "    <tr>\n",
       "      <th>9864</th>\n",
       "      <td>6638</td>\n",
       "      <td>417</td>\n",
       "    </tr>\n",
       "    <tr>\n",
       "      <th>9880</th>\n",
       "      <td>4649</td>\n",
       "      <td>772</td>\n",
       "    </tr>\n",
       "    <tr>\n",
       "      <th>9885</th>\n",
       "      <td>6732</td>\n",
       "      <td>433</td>\n",
       "    </tr>\n",
       "    <tr>\n",
       "      <th>9898</th>\n",
       "      <td>5643</td>\n",
       "      <td>354</td>\n",
       "    </tr>\n",
       "    <tr>\n",
       "      <th>9958</th>\n",
       "      <td>54780</td>\n",
       "      <td>373</td>\n",
       "    </tr>\n",
       "    <tr>\n",
       "      <th>9962</th>\n",
       "      <td>6722</td>\n",
       "      <td>378</td>\n",
       "    </tr>\n",
       "    <tr>\n",
       "      <th>9970</th>\n",
       "      <td>1572</td>\n",
       "      <td>585</td>\n",
       "    </tr>\n",
       "    <tr>\n",
       "      <th>9996</th>\n",
       "      <td>7748</td>\n",
       "      <td>346</td>\n",
       "    </tr>\n",
       "    <tr>\n",
       "      <th>10087</th>\n",
       "      <td>1489</td>\n",
       "      <td>393</td>\n",
       "    </tr>\n",
       "    <tr>\n",
       "      <th>10145</th>\n",
       "      <td>77846</td>\n",
       "      <td>370</td>\n",
       "    </tr>\n",
       "    <tr>\n",
       "      <th>10237</th>\n",
       "      <td>4438</td>\n",
       "      <td>399</td>\n",
       "    </tr>\n",
       "    <tr>\n",
       "      <th>10266</th>\n",
       "      <td>27397</td>\n",
       "      <td>445</td>\n",
       "    </tr>\n",
       "    <tr>\n",
       "      <th>10274</th>\n",
       "      <td>5095</td>\n",
       "      <td>422</td>\n",
       "    </tr>\n",
       "    <tr>\n",
       "      <th>10288</th>\n",
       "      <td>8338</td>\n",
       "      <td>366</td>\n",
       "    </tr>\n",
       "    <tr>\n",
       "      <th>10346</th>\n",
       "      <td>60647</td>\n",
       "      <td>410</td>\n",
       "    </tr>\n",
       "    <tr>\n",
       "      <th>10608</th>\n",
       "      <td>5056</td>\n",
       "      <td>389</td>\n",
       "    </tr>\n",
       "    <tr>\n",
       "      <th>10833</th>\n",
       "      <td>74948</td>\n",
       "      <td>409</td>\n",
       "    </tr>\n",
       "    <tr>\n",
       "      <th>10936</th>\n",
       "      <td>3966</td>\n",
       "      <td>407</td>\n",
       "    </tr>\n",
       "    <tr>\n",
       "      <th>11038</th>\n",
       "      <td>79553</td>\n",
       "      <td>401</td>\n",
       "    </tr>\n",
       "    <tr>\n",
       "      <th>11054</th>\n",
       "      <td>7939</td>\n",
       "      <td>350</td>\n",
       "    </tr>\n",
       "  </tbody>\n",
       "</table>\n",
       "<p>5354 rows × 2 columns</p>\n",
       "</div>"
      ],
      "text/plain": [
       "       movieId  ratingsCount\n",
       "0            2         22243\n",
       "1           29          8520\n",
       "2           32         44980\n",
       "3           47         43249\n",
       "4           50         47006\n",
       "5          112         11890\n",
       "6          151         12616\n",
       "7          223         23695\n",
       "8          253         27568\n",
       "9          260         54502\n",
       "10         293         25804\n",
       "11         296         67310\n",
       "12         318         63366\n",
       "13         337         17881\n",
       "14         367         34384\n",
       "15         541         30526\n",
       "16         589         52244\n",
       "17         593         63299\n",
       "18         653         14192\n",
       "19         919         23445\n",
       "20         924         25253\n",
       "21        1009          2604\n",
       "22        1036         30399\n",
       "23        1079         19674\n",
       "24        1080         20557\n",
       "25        1089         27635\n",
       "26        1090         15808\n",
       "27        1097         32685\n",
       "28        1136         33024\n",
       "29        1193         29932\n",
       "...        ...           ...\n",
       "9704      7115           410\n",
       "9749      3746           367\n",
       "9752      5348           541\n",
       "9754      2437           778\n",
       "9758     73854           413\n",
       "9762      3929           703\n",
       "9790      2284           353\n",
       "9797      5498           446\n",
       "9809      7206           475\n",
       "9862      6614           370\n",
       "9864      6638           417\n",
       "9880      4649           772\n",
       "9885      6732           433\n",
       "9898      5643           354\n",
       "9958     54780           373\n",
       "9962      6722           378\n",
       "9970      1572           585\n",
       "9996      7748           346\n",
       "10087     1489           393\n",
       "10145    77846           370\n",
       "10237     4438           399\n",
       "10266    27397           445\n",
       "10274     5095           422\n",
       "10288     8338           366\n",
       "10346    60647           410\n",
       "10608     5056           389\n",
       "10833    74948           409\n",
       "10936     3966           407\n",
       "11038    79553           401\n",
       "11054     7939           350\n",
       "\n",
       "[5354 rows x 2 columns]"
      ]
     },
     "execution_count": 55,
     "metadata": {},
     "output_type": "execute_result"
    }
   ],
   "source": [
    "filtered_movie_ratings_cnt = ratings_cnt[ratings_cnt[\"ratingsCount\"]>=movie_cutoff]\n",
    "filtered_user_ratings_cnt = user_ratings_cnt[user_ratings_cnt[\"ratingsCount\"]>=user_cutoff]\n",
    "filtered_movie_ratings_cnt"
   ]
  },
  {
   "cell_type": "code",
   "execution_count": null,
   "metadata": {
    "collapsed": true
   },
   "outputs": [],
   "source": []
  }
 ],
 "metadata": {
  "kernelspec": {
   "display_name": "Python 2",
   "language": "python",
   "name": "python2"
  },
  "language_info": {
   "codemirror_mode": {
    "name": "ipython",
    "version": 2
   },
   "file_extension": ".py",
   "mimetype": "text/x-python",
   "name": "python",
   "nbconvert_exporter": "python",
   "pygments_lexer": "ipython2",
   "version": "2.7.11"
  }
 },
 "nbformat": 4,
 "nbformat_minor": 0
}
