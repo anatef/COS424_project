{
 "cells": [
  {
   "cell_type": "code",
   "execution_count": 79,
   "metadata": {
    "collapsed": false
   },
   "outputs": [
    {
     "data": {
      "text/html": [
       "<style>.container { width:100% !important; }</style>"
      ],
      "text/plain": [
       "<IPython.core.display.HTML object>"
      ]
     },
     "execution_count": 79,
     "metadata": {},
     "output_type": "execute_result"
    }
   ],
   "source": [
    "%matplotlib inline\n",
    "\n",
    "import numpy as np\n",
    "import pandas as pd\n",
    "import pickle\n",
    "import matplotlib.pyplot as plt\n",
    "import fileinput\n",
    "\n",
    "#Fit the code to the screen\n",
    "from IPython.core.display import HTML\n",
    "HTML(\"<style>.container { width:100% !important; }</style>\")"
   ]
  },
  {
   "cell_type": "code",
   "execution_count": 4,
   "metadata": {
    "collapsed": false
   },
   "outputs": [],
   "source": [
    "#Reading the movies data\n",
    "my_path = !pwd\n",
    "movies_filename = \"/ml-20/movies.csv\"\n",
    "dfmovies = pd.read_csv(my_path[0]+movies_filename, index_col=None, sep=',')"
   ]
  },
  {
   "cell_type": "code",
   "execution_count": 3,
   "metadata": {
    "collapsed": false
   },
   "outputs": [],
   "source": [
    "#Extract the year from the title\n",
    "dfmovies[\"year\"] = dfmovies['title'].apply(lambda x: x[x.rfind(\"(\")+1:x.rfind(\")\")])\n",
    "dfmovies[\"name\"] = dfmovies['title'].apply(lambda x: x[:x.rfind(\"(\")-1])\n",
    "del dfmovies['title']\n",
    "#Get the columns to the original order\n",
    "cols = dfmovies.columns.tolist()\n",
    "cols = cols[:1] + cols[-1:] + cols[-2:-1] + cols[1:2]\n",
    "dfmovies = dfmovies[cols]"
   ]
  },
  {
   "cell_type": "code",
   "execution_count": 82,
   "metadata": {
    "collapsed": false
   },
   "outputs": [],
   "source": [
    "#Reading the ratings data\n",
    "ratings_filename = \"/ml-20/ratings.csv\"\n",
    "dfratings = pd.read_csv(my_path[0]+ratings_filename, index_col=None, sep=',')"
   ]
  },
  {
   "cell_type": "code",
   "execution_count": null,
   "metadata": {
    "collapsed": false
   },
   "outputs": [],
   "source": [
    "#Check how many movies have enough ratings\n",
    "ratings_num = []\n",
    "movie_ids = (dfratings[\"movieId\"]).unique()\n",
    "for movie in movie_ids:\n",
    "    ratings_num.append(dfratings[dfratings[\"movieId\"] == movie].shape[0])"
   ]
  },
  {
   "cell_type": "code",
   "execution_count": 70,
   "metadata": {
    "collapsed": false
   },
   "outputs": [
    {
     "name": "stdout",
     "output_type": "stream",
     "text": [
      "[175]\n"
     ]
    }
   ],
   "source": []
  },
  {
   "cell_type": "code",
   "execution_count": null,
   "metadata": {
    "collapsed": false
   },
   "outputs": [],
   "source": [
    "#Create df of movies ids and ratings count\n",
    "ratings_cnt = pd.DataFrame([movie_ids, ratings_num])\n",
    "ratings_cnt = ratings_cnt.transpose()\n",
    "ratings_cnt.columns = [\"movieId\", \"ratingsCount\"]"
   ]
  },
  {
   "cell_type": "code",
   "execution_count": null,
   "metadata": {
    "collapsed": false
   },
   "outputs": [],
   "source": [
    "with open(my_path[0]+'/explore/ratings_cnt.pik', 'wb') as handle:\n",
    "    pickle.dump(ratings_cnt, handle, protocol=pickle.HIGHEST_PROTOCOL)"
   ]
  },
  {
   "cell_type": "code",
   "execution_count": 74,
   "metadata": {
    "collapsed": false
   },
   "outputs": [],
   "source": [
    "#Create df of user ids and ratings count\n",
    "user_ratings_filename = \"/ml-20/usersCnt.csv\"\n",
    "user_ratings_cnt = pd.read_csv(my_path[0]+user_ratings_filename, index_col=None, sep=',')"
   ]
  },
  {
   "cell_type": "code",
   "execution_count": 78,
   "metadata": {
    "collapsed": false
   },
   "outputs": [],
   "source": [
    "user_ratings_cnt[\"ratingsCount\"].describe()\n",
    "with open(my_path[0]+'/explore/user_ratings_cnt.pik', 'wb') as handle:\n",
    "    pickle.dump(user_ratings_cnt, handle, protocol=pickle.HIGHEST_PROTOCOL)"
   ]
  },
  {
   "cell_type": "code",
   "execution_count": null,
   "metadata": {
    "collapsed": false
   },
   "outputs": [],
   "source": [
    "(n, bins, patches) = plt.hist(ratings_cnt[\"ratingsCount\"], bins=np.arange(1,1000, 100))\n",
    "plt.show()"
   ]
  },
  {
   "cell_type": "code",
   "execution_count": 5,
   "metadata": {
    "collapsed": false
   },
   "outputs": [
    {
     "data": {
      "text/plain": [
       "count    138492.000000\n",
       "mean        144.411879\n",
       "std         230.267269\n",
       "min          20.000000\n",
       "25%          35.000000\n",
       "50%          68.000000\n",
       "75%         155.000000\n",
       "max        9254.000000\n",
       "Name: ratingsCount, dtype: float64"
      ]
     },
     "execution_count": 5,
     "metadata": {},
     "output_type": "execute_result"
    }
   ],
   "source": [
    "# Get movie and user ratings\n",
    "ratings_cnt = pickle.load(open(my_path[0]+'/explore/ratings_cnt.pik', 'rb'))\n"
   ]
  },
  {
   "cell_type": "code",
   "execution_count": 8,
   "metadata": {
    "collapsed": false
   },
   "outputs": [
    {
     "data": {
      "text/plain": [
       "count    26744.000000\n",
       "mean       747.841123\n",
       "std       3085.818268\n",
       "min          1.000000\n",
       "25%          3.000000\n",
       "50%         18.000000\n",
       "75%        205.000000\n",
       "max      67310.000000\n",
       "Name: ratingsCount, dtype: float64"
      ]
     },
     "execution_count": 8,
     "metadata": {},
     "output_type": "execute_result"
    }
   ],
   "source": [
    "ratings_cnt[\"ratingsCount\"].describe()"
   ]
  },
  {
   "cell_type": "code",
   "execution_count": 74,
   "metadata": {
    "collapsed": false
   },
   "outputs": [
    {
     "name": "stdout",
     "output_type": "stream",
     "text": [
      "346\n",
      "193\n"
     ]
    },
    {
     "data": {
      "image/png": "[encoded data removed]",
      "text/plain": [
       "<matplotlib.figure.Figure at 0x7fbb4e597610>"
      ]
     },
     "metadata": {},
     "output_type": "display_data"
    }
   ],
   "source": [
    "NUM_MOVIE_BINS = max(ratings_cnt[\"ratingsCount\"])-min(ratings_cnt[\"ratingsCount\"])\n",
    "\n",
    "movie_counts, bin_edges = np.histogram(ratings_cnt[\"ratingsCount\"], bins=NUM_MOVIE_BINS)\n",
    "movie_cdf = np.cumsum(movie_counts,dtype=float)\n",
    "movie_cdf_normalized = movie_cdf/max(movie_cdf)*100.0\n",
    "\n",
    "#print user_cdf\n",
    "CUTOFF_PERCENTILE = 80.0\n",
    "for i in range(NUM_MOVIE_BINS):\n",
    "    if movie_cdf_normalized[i] >= CUTOFF_PERCENTILE: \n",
    "        movie_cutoff = i+min(ratings_cnt[\"ratingsCount\"])\n",
    "        print movie_cutoff\n",
    "        break\n",
    "fig,ax = plt.subplots()\n",
    "fig.set_size_inches(10,10)\n",
    "XMIN = 10.0\n",
    "XMAX = 20000\n",
    "plt.xlim(xmin=XMIN,xmax=XMAX)\n",
    "plt.ylim(ymin=0.0,ymax=105)\n",
    "plt.plot(movie_cdf_normalized,linewidth=3,linestyle=\"-\",color=\"#008000\")\n",
    "ax.set_title(\"MovieLens 20M: Movie Ratings\",fontsize=18)\n",
    "ax.set_xlabel(\"Ratings\",fontsize=14)\n",
    "ax.set_ylabel(\"Fraction(%)\",fontsize=14)\n",
    "ax.text(movie_cutoff-10,CUTOFF_PERCENTILE-2,str(movie_cutoff),color=\"#ff0000\")\n",
    "ax.set_xscale('symlog', basex=10)\n",
    "plt.plot([XMIN, XMAX], [CUTOFF_PERCENTILE, CUTOFF_PERCENTILE], linewidth=1, linestyle=\"--\",color=\"#ff0000\")\n",
    "\n",
    "plt.xticks([10,100,1000,10000],[\"10\",\"100\",\"1000\",\"10000\"])\n",
    "plt.savefig(\"movies_histogram.pdf\",dpi=200)\n",
    "plt.clf()\n",
    "plt.cla()\n",
    "filtered_movie_ratings_cnt = ratings_cnt[ratings_cnt[\"ratingsCount\"]>=movie_cutoff]\n",
    "\n"
   ]
  },
  {
   "cell_type": "code",
   "execution_count": 153,
   "metadata": {
    "collapsed": false,
    "scrolled": false
   },
   "outputs": [],
   "source": [
    "# Filtering the users using the filtered movies \n",
    "userId = \"1\"\n",
    "counter = 0\n",
    "userIdList = []\n",
    "ratingList = []\n",
    "filtered_movie_ids = set(filtered_movie_ratings_cnt[\"movieId\"])\n",
    "filtered_movie_ratings_cnt[\"movieId\"]\n",
    "for line in fileinput.input(my_path[0]+ratings_filename):\n",
    "    if line.find(\"Id\")>=0:\n",
    "        continue\n",
    "    lineUserId = line.split(\",\")[0]\n",
    "    lineMovieId = int(line.split(\",\")[1])\n",
    "    if userId != lineUserId:\n",
    "        userIdList.append(userId)\n",
    "        ratingList.append(counter)\n",
    "        userId = lineUserId\n",
    "        counter = 0\n",
    "    if lineMovieId in filtered_movie_ids:    \n",
    "        counter+=1     \n",
    "userIdList.append(userId)\n",
    "ratingList.append(counter)\n",
    "user_ratings_cnt = pd.DataFrame([userIdList,ratingList])\n",
    "user_ratings_cnt = user_ratings_cnt.transpose()\n",
    "user_ratings_cnt.columns=[\"userId\",\"ratingsCount\"]\n",
    "fileinput.close()"
   ]
  },
  {
   "cell_type": "code",
   "execution_count": 161,
   "metadata": {
    "collapsed": false
   },
   "outputs": [
    {
     "data": {
      "text/html": [
       "<div>\n",
       "<table border=\"1\" class=\"dataframe\">\n",
       "  <thead>\n",
       "    <tr style=\"text-align: right;\">\n",
       "      <th></th>\n",
       "      <th>userId</th>\n",
       "      <th>ratingsCount</th>\n",
       "    </tr>\n",
       "  </thead>\n",
       "  <tbody>\n",
       "    <tr>\n",
       "      <th>count</th>\n",
       "      <td>138493</td>\n",
       "      <td>138493</td>\n",
       "    </tr>\n",
       "    <tr>\n",
       "      <th>unique</th>\n",
       "      <td>138493</td>\n",
       "      <td>1718</td>\n",
       "    </tr>\n",
       "    <tr>\n",
       "      <th>top</th>\n",
       "      <td>44924</td>\n",
       "      <td>20</td>\n",
       "    </tr>\n",
       "    <tr>\n",
       "      <th>freq</th>\n",
       "      <td>1</td>\n",
       "      <td>4462</td>\n",
       "    </tr>\n",
       "  </tbody>\n",
       "</table>\n",
       "</div>"
      ],
      "text/plain": [
       "        userId  ratingsCount\n",
       "count   138493        138493\n",
       "unique  138493          1718\n",
       "top      44924            20\n",
       "freq         1          4462"
      ]
     },
     "execution_count": 161,
     "metadata": {},
     "output_type": "execute_result"
    }
   ],
   "source": [
    "with open(my_path[0]+'/explore/user_ratings_cnt.pik', 'wb') as handle:\n",
    "    pickle.dump(user_ratings_cnt, handle, protocol=pickle.HIGHEST_PROTOCOL)\n",
    "user_ratings_cnt.describe()"
   ]
  },
  {
   "cell_type": "code",
   "execution_count": 162,
   "metadata": {
    "collapsed": false
   },
   "outputs": [
    {
     "name": "stdout",
     "output_type": "stream",
     "text": [
      "188\n"
     ]
    },
    {
     "data": {
      "image/png": "[encoded data removed]",
      "text/plain": [
       "<matplotlib.figure.Figure at 0x7fbb4ddf4b10>"
      ]
     },
     "metadata": {},
     "output_type": "display_data"
    }
   ],
   "source": [
    "user_ratings_cnt = pickle.load(open(my_path[0]+'/explore/user_ratings_cnt.pik', 'rb'))\n",
    "NUM_USER_BINS = max(user_ratings_cnt[\"ratingsCount\"])-min(user_ratings_cnt[\"ratingsCount\"])\n",
    "user_counts, bin_edges = np.histogram(user_ratings_cnt[\"ratingsCount\"], bins=NUM_USER_BINS,density=True)\n",
    "user_cdf = np.cumsum(user_counts,dtype=float)        \n",
    "user_cdf_normalized = user_cdf/max(user_cdf)*100.0\n",
    "\n",
    "for i in range(NUM_USER_BINS):\n",
    "    if user_cdf_normalized[i] >= CUTOFF_PERCENTILE: \n",
    "        user_cutoff = i+min(user_ratings_cnt[\"ratingsCount\"])\n",
    "        print user_cutoff\n",
    "        break\n",
    "\n",
    "        \n",
    "fig,ax = plt.subplots()\n",
    "fig.set_size_inches(10,10)\n",
    "XMIN = 10.0\n",
    "XMAX = len(user_cdf_normalized)\n",
    "plt.xlim(xmin=XMIN,xmax=XMAX)\n",
    "plt.ylim(ymin=0.0,ymax=105)\n",
    "plt.plot(user_cdf_normalized,linewidth=3,linestyle=\"-\",color=\"#0000ff\")\n",
    "ax.set_title(\"MovieLens 20M: User Ratings\",fontsize=18)\n",
    "ax.set_xlabel(\"Ratings\",fontsize=14)\n",
    "ax.set_ylabel(\"Fraction(%)\",fontsize=14)\n",
    "ax.text(user_cutoff-10,CUTOFF_PERCENTILE-2,str(user_cutoff),color=\"#ff0000\")\n",
    "ax.set_xscale('symlog', basex=10)\n",
    "plt.plot([XMIN, XMAX], [CUTOFF_PERCENTILE, CUTOFF_PERCENTILE], linewidth=1, linestyle=\"--\",color=\"#ff0000\")\n",
    "\n",
    "plt.xticks([10,100,1000],[\"10\",\"100\",\"1000\"])\n",
    "plt.savefig(\"user_histogram.pdf\",dpi=200)\n"
   ]
  },
  {
   "cell_type": "code",
   "execution_count": 163,
   "metadata": {
    "collapsed": false
   },
   "outputs": [],
   "source": [
    "filtered_movie_ratings_cnt = ratings_cnt[ratings_cnt[\"ratingsCount\"]>=movie_cutoff]\n",
    "filtered_user_ratings_cnt = user_ratings_cnt[user_ratings_cnt[\"ratingsCount\"]>=user_cutoff]\n",
    "with open(my_path[0]+'/explore/filtered_movie_ratings_cnt.pik', 'wb') as handle:\n",
    "    pickle.dump(filtered_movie_ratings_cnt, handle, protocol=pickle.HIGHEST_PROTOCOL)\n",
    "with open(my_path[0]+'/explore/filtered_user_ratings_cnt.pik', 'wb') as handle:\n",
    "    pickle.dump(filtered_user_ratings_cnt, handle, protocol=pickle.HIGHEST_PROTOCOL)    "
   ]
  },
  {
   "cell_type": "code",
   "execution_count": null,
   "metadata": {
    "collapsed": false
   },
   "outputs": [],
   "source": []
  },
  {
   "cell_type": "code",
   "execution_count": 75,
   "metadata": {
    "collapsed": false,
    "scrolled": true
   },
   "outputs": [
    {
     "data": {
      "text/html": [
       "<div>\n",
       "<table border=\"1\" class=\"dataframe\">\n",
       "  <thead>\n",
       "    <tr style=\"text-align: right;\">\n",
       "      <th></th>\n",
       "      <th>userId</th>\n",
       "      <th>ratingsCount</th>\n",
       "    </tr>\n",
       "  </thead>\n",
       "  <tbody>\n",
       "    <tr>\n",
       "      <th>0</th>\n",
       "      <td>1</td>\n",
       "      <td>175</td>\n",
       "    </tr>\n",
       "    <tr>\n",
       "      <th>1</th>\n",
       "      <td>2</td>\n",
       "      <td>61</td>\n",
       "    </tr>\n",
       "    <tr>\n",
       "      <th>2</th>\n",
       "      <td>3</td>\n",
       "      <td>187</td>\n",
       "    </tr>\n",
       "    <tr>\n",
       "      <th>3</th>\n",
       "      <td>4</td>\n",
       "      <td>28</td>\n",
       "    </tr>\n",
       "    <tr>\n",
       "      <th>4</th>\n",
       "      <td>5</td>\n",
       "      <td>66</td>\n",
       "    </tr>\n",
       "    <tr>\n",
       "      <th>5</th>\n",
       "      <td>6</td>\n",
       "      <td>24</td>\n",
       "    </tr>\n",
       "    <tr>\n",
       "      <th>6</th>\n",
       "      <td>7</td>\n",
       "      <td>276</td>\n",
       "    </tr>\n",
       "    <tr>\n",
       "      <th>7</th>\n",
       "      <td>8</td>\n",
       "      <td>70</td>\n",
       "    </tr>\n",
       "    <tr>\n",
       "      <th>8</th>\n",
       "      <td>9</td>\n",
       "      <td>35</td>\n",
       "    </tr>\n",
       "    <tr>\n",
       "      <th>9</th>\n",
       "      <td>10</td>\n",
       "      <td>38</td>\n",
       "    </tr>\n",
       "    <tr>\n",
       "      <th>10</th>\n",
       "      <td>11</td>\n",
       "      <td>504</td>\n",
       "    </tr>\n",
       "    <tr>\n",
       "      <th>11</th>\n",
       "      <td>12</td>\n",
       "      <td>36</td>\n",
       "    </tr>\n",
       "    <tr>\n",
       "      <th>12</th>\n",
       "      <td>13</td>\n",
       "      <td>62</td>\n",
       "    </tr>\n",
       "    <tr>\n",
       "      <th>13</th>\n",
       "      <td>14</td>\n",
       "      <td>243</td>\n",
       "    </tr>\n",
       "    <tr>\n",
       "      <th>14</th>\n",
       "      <td>15</td>\n",
       "      <td>49</td>\n",
       "    </tr>\n",
       "    <tr>\n",
       "      <th>15</th>\n",
       "      <td>16</td>\n",
       "      <td>60</td>\n",
       "    </tr>\n",
       "    <tr>\n",
       "      <th>16</th>\n",
       "      <td>17</td>\n",
       "      <td>26</td>\n",
       "    </tr>\n",
       "    <tr>\n",
       "      <th>17</th>\n",
       "      <td>18</td>\n",
       "      <td>121</td>\n",
       "    </tr>\n",
       "    <tr>\n",
       "      <th>18</th>\n",
       "      <td>19</td>\n",
       "      <td>50</td>\n",
       "    </tr>\n",
       "    <tr>\n",
       "      <th>19</th>\n",
       "      <td>20</td>\n",
       "      <td>28</td>\n",
       "    </tr>\n",
       "    <tr>\n",
       "      <th>20</th>\n",
       "      <td>21</td>\n",
       "      <td>163</td>\n",
       "    </tr>\n",
       "    <tr>\n",
       "      <th>21</th>\n",
       "      <td>22</td>\n",
       "      <td>133</td>\n",
       "    </tr>\n",
       "    <tr>\n",
       "      <th>22</th>\n",
       "      <td>23</td>\n",
       "      <td>102</td>\n",
       "    </tr>\n",
       "    <tr>\n",
       "      <th>23</th>\n",
       "      <td>24</td>\n",
       "      <td>506</td>\n",
       "    </tr>\n",
       "    <tr>\n",
       "      <th>24</th>\n",
       "      <td>25</td>\n",
       "      <td>121</td>\n",
       "    </tr>\n",
       "    <tr>\n",
       "      <th>25</th>\n",
       "      <td>26</td>\n",
       "      <td>61</td>\n",
       "    </tr>\n",
       "    <tr>\n",
       "      <th>26</th>\n",
       "      <td>27</td>\n",
       "      <td>69</td>\n",
       "    </tr>\n",
       "    <tr>\n",
       "      <th>27</th>\n",
       "      <td>28</td>\n",
       "      <td>32</td>\n",
       "    </tr>\n",
       "    <tr>\n",
       "      <th>28</th>\n",
       "      <td>29</td>\n",
       "      <td>177</td>\n",
       "    </tr>\n",
       "    <tr>\n",
       "      <th>29</th>\n",
       "      <td>30</td>\n",
       "      <td>31</td>\n",
       "    </tr>\n",
       "    <tr>\n",
       "      <th>...</th>\n",
       "      <td>...</td>\n",
       "      <td>...</td>\n",
       "    </tr>\n",
       "    <tr>\n",
       "      <th>138462</th>\n",
       "      <td>138463</td>\n",
       "      <td>23</td>\n",
       "    </tr>\n",
       "    <tr>\n",
       "      <th>138463</th>\n",
       "      <td>138464</td>\n",
       "      <td>241</td>\n",
       "    </tr>\n",
       "    <tr>\n",
       "      <th>138464</th>\n",
       "      <td>138465</td>\n",
       "      <td>33</td>\n",
       "    </tr>\n",
       "    <tr>\n",
       "      <th>138465</th>\n",
       "      <td>138466</td>\n",
       "      <td>32</td>\n",
       "    </tr>\n",
       "    <tr>\n",
       "      <th>138466</th>\n",
       "      <td>138467</td>\n",
       "      <td>298</td>\n",
       "    </tr>\n",
       "    <tr>\n",
       "      <th>138467</th>\n",
       "      <td>138468</td>\n",
       "      <td>31</td>\n",
       "    </tr>\n",
       "    <tr>\n",
       "      <th>138468</th>\n",
       "      <td>138469</td>\n",
       "      <td>22</td>\n",
       "    </tr>\n",
       "    <tr>\n",
       "      <th>138469</th>\n",
       "      <td>138470</td>\n",
       "      <td>99</td>\n",
       "    </tr>\n",
       "    <tr>\n",
       "      <th>138470</th>\n",
       "      <td>138471</td>\n",
       "      <td>143</td>\n",
       "    </tr>\n",
       "    <tr>\n",
       "      <th>138471</th>\n",
       "      <td>138472</td>\n",
       "      <td>352</td>\n",
       "    </tr>\n",
       "    <tr>\n",
       "      <th>138472</th>\n",
       "      <td>138473</td>\n",
       "      <td>90</td>\n",
       "    </tr>\n",
       "    <tr>\n",
       "      <th>138473</th>\n",
       "      <td>138474</td>\n",
       "      <td>594</td>\n",
       "    </tr>\n",
       "    <tr>\n",
       "      <th>138474</th>\n",
       "      <td>138475</td>\n",
       "      <td>144</td>\n",
       "    </tr>\n",
       "    <tr>\n",
       "      <th>138475</th>\n",
       "      <td>138476</td>\n",
       "      <td>26</td>\n",
       "    </tr>\n",
       "    <tr>\n",
       "      <th>138476</th>\n",
       "      <td>138477</td>\n",
       "      <td>224</td>\n",
       "    </tr>\n",
       "    <tr>\n",
       "      <th>138477</th>\n",
       "      <td>138478</td>\n",
       "      <td>41</td>\n",
       "    </tr>\n",
       "    <tr>\n",
       "      <th>138478</th>\n",
       "      <td>138479</td>\n",
       "      <td>35</td>\n",
       "    </tr>\n",
       "    <tr>\n",
       "      <th>138479</th>\n",
       "      <td>138480</td>\n",
       "      <td>21</td>\n",
       "    </tr>\n",
       "    <tr>\n",
       "      <th>138480</th>\n",
       "      <td>138481</td>\n",
       "      <td>30</td>\n",
       "    </tr>\n",
       "    <tr>\n",
       "      <th>138481</th>\n",
       "      <td>138482</td>\n",
       "      <td>40</td>\n",
       "    </tr>\n",
       "    <tr>\n",
       "      <th>138482</th>\n",
       "      <td>138483</td>\n",
       "      <td>276</td>\n",
       "    </tr>\n",
       "    <tr>\n",
       "      <th>138483</th>\n",
       "      <td>138484</td>\n",
       "      <td>148</td>\n",
       "    </tr>\n",
       "    <tr>\n",
       "      <th>138484</th>\n",
       "      <td>138485</td>\n",
       "      <td>34</td>\n",
       "    </tr>\n",
       "    <tr>\n",
       "      <th>138485</th>\n",
       "      <td>138486</td>\n",
       "      <td>193</td>\n",
       "    </tr>\n",
       "    <tr>\n",
       "      <th>138486</th>\n",
       "      <td>138487</td>\n",
       "      <td>62</td>\n",
       "    </tr>\n",
       "    <tr>\n",
       "      <th>138487</th>\n",
       "      <td>138488</td>\n",
       "      <td>24</td>\n",
       "    </tr>\n",
       "    <tr>\n",
       "      <th>138488</th>\n",
       "      <td>138489</td>\n",
       "      <td>38</td>\n",
       "    </tr>\n",
       "    <tr>\n",
       "      <th>138489</th>\n",
       "      <td>138490</td>\n",
       "      <td>151</td>\n",
       "    </tr>\n",
       "    <tr>\n",
       "      <th>138490</th>\n",
       "      <td>138491</td>\n",
       "      <td>22</td>\n",
       "    </tr>\n",
       "    <tr>\n",
       "      <th>138491</th>\n",
       "      <td>138492</td>\n",
       "      <td>82</td>\n",
       "    </tr>\n",
       "  </tbody>\n",
       "</table>\n",
       "<p>138492 rows × 2 columns</p>\n",
       "</div>"
      ],
      "text/plain": [
       "        userId  ratingsCount\n",
       "0            1           175\n",
       "1            2            61\n",
       "2            3           187\n",
       "3            4            28\n",
       "4            5            66\n",
       "5            6            24\n",
       "6            7           276\n",
       "7            8            70\n",
       "8            9            35\n",
       "9           10            38\n",
       "10          11           504\n",
       "11          12            36\n",
       "12          13            62\n",
       "13          14           243\n",
       "14          15            49\n",
       "15          16            60\n",
       "16          17            26\n",
       "17          18           121\n",
       "18          19            50\n",
       "19          20            28\n",
       "20          21           163\n",
       "21          22           133\n",
       "22          23           102\n",
       "23          24           506\n",
       "24          25           121\n",
       "25          26            61\n",
       "26          27            69\n",
       "27          28            32\n",
       "28          29           177\n",
       "29          30            31\n",
       "...        ...           ...\n",
       "138462  138463            23\n",
       "138463  138464           241\n",
       "138464  138465            33\n",
       "138465  138466            32\n",
       "138466  138467           298\n",
       "138467  138468            31\n",
       "138468  138469            22\n",
       "138469  138470            99\n",
       "138470  138471           143\n",
       "138471  138472           352\n",
       "138472  138473            90\n",
       "138473  138474           594\n",
       "138474  138475           144\n",
       "138475  138476            26\n",
       "138476  138477           224\n",
       "138477  138478            41\n",
       "138478  138479            35\n",
       "138479  138480            21\n",
       "138480  138481            30\n",
       "138481  138482            40\n",
       "138482  138483           276\n",
       "138483  138484           148\n",
       "138484  138485            34\n",
       "138485  138486           193\n",
       "138486  138487            62\n",
       "138487  138488            24\n",
       "138488  138489            38\n",
       "138489  138490           151\n",
       "138490  138491            22\n",
       "138491  138492            82\n",
       "\n",
       "[138492 rows x 2 columns]"
      ]
     },
     "execution_count": 75,
     "metadata": {},
     "output_type": "execute_result"
    }
   ],
   "source": [
    "user_ratings_cnt"
   ]
  },
  {
   "cell_type": "code",
   "execution_count": 108,
   "metadata": {
    "collapsed": true
   },
   "outputs": [],
   "source": [
    "fileinput.close()    "
   ]
  },
  {
   "cell_type": "code",
   "execution_count": null,
   "metadata": {
    "collapsed": true
   },
   "outputs": [],
   "source": []
  }
 ],
 "metadata": {
  "kernelspec": {
   "display_name": "Python 2",
   "language": "python",
   "name": "python2"
  },
  "language_info": {
   "codemirror_mode": {
    "name": "ipython",
    "version": 2
   },
   "file_extension": ".py",
   "mimetype": "text/x-python",
   "name": "python",
   "nbconvert_exporter": "python",
   "pygments_lexer": "ipython2",
   "version": "2.7.11"
  }
 },
 "nbformat": 4,
 "nbformat_minor": 0
}
