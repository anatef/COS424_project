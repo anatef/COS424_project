{
 "cells": [
  {
   "cell_type": "code",
   "execution_count": 3,
   "metadata": {
    "collapsed": false
   },
   "outputs": [
    {
     "data": {
      "text/html": [
       "<style>.container { width:100% !important; }</style>"
      ],
      "text/plain": [
       "<IPython.core.display.HTML object>"
      ]
     },
     "execution_count": 3,
     "metadata": {},
     "output_type": "execute_result"
    }
   ],
   "source": [
    "%matplotlib inline\n",
    "\n",
    "import numpy as np\n",
    "import pandas as pd\n",
    "import pickle\n",
    "import matplotlib.pyplot as plt\n",
    "import fileinput\n",
    "\n",
    "#Fit the code to the screen\n",
    "from IPython.core.display import HTML\n",
    "HTML(\"<style>.container { width:100% !important; }</style>\")"
   ]
  },
  {
   "cell_type": "code",
   "execution_count": 4,
   "metadata": {
    "collapsed": false
   },
   "outputs": [],
   "source": [
    "#Reading the movies data\n",
    "my_path = !pwd\n",
    "movies_filename = \"/ml-20/movies.csv\"\n",
    "dfmovies = pd.read_csv(my_path[0]+movies_filename, index_col=None, sep=',')"
   ]
  },
  {
   "cell_type": "code",
   "execution_count": 3,
   "metadata": {
    "collapsed": false
   },
   "outputs": [],
   "source": [
    "#Extract the year from the title\n",
    "dfmovies[\"year\"] = dfmovies['title'].apply(lambda x: x[x.rfind(\"(\")+1:x.rfind(\")\")])\n",
    "dfmovies[\"name\"] = dfmovies['title'].apply(lambda x: x[:x.rfind(\"(\")-1])\n",
    "del dfmovies['title']\n",
    "#Get the columns to the original order\n",
    "cols = dfmovies.columns.tolist()\n",
    "cols = cols[:1] + cols[-1:] + cols[-2:-1] + cols[1:2]\n",
    "dfmovies = dfmovies[cols]"
   ]
  },
  {
   "cell_type": "code",
   "execution_count": 4,
   "metadata": {
    "collapsed": true
   },
   "outputs": [],
   "source": [
    "#Reading the ratings data\n",
    "ratings_filename = \"/ml-20/ratings.csv\"\n",
    "dfratings = pd.read_csv(my_path[0]+ratings_filename, index_col=None, sep=',')my_path[0]+ratings_filename, index_col=None, sep=',')"
   ]
  },
  {
   "cell_type": "code",
   "execution_count": null,
   "metadata": {
    "collapsed": false
   },
   "outputs": [],
   "source": [
    "#Check how many movies have enough ratings\n",
    "ratings_num = []\n",
    "movie_ids = (dfratings[\"movieId\"]).unique()\n",
    "for movie in movie_ids:\n",
    "    ratings_num.append(dfratings[dfratings[\"movieId\"] == movie].shape[0])"
   ]
  },
  {
   "cell_type": "code",
   "execution_count": 70,
   "metadata": {
    "collapsed": false
   },
   "outputs": [
    {
     "name": "stdout",
     "output_type": "stream",
     "text": [
      "[175]\n"
     ]
    }
   ],
   "source": []
  },
  {
   "cell_type": "code",
   "execution_count": null,
   "metadata": {
    "collapsed": false
   },
   "outputs": [],
   "source": [
    "#Create df of movies ids and ratings count\n",
    "ratings_cnt = pd.DataFrame([movie_ids, ratings_num])\n",
    "ratings_cnt = ratings_cnt.transpose()\n",
    "ratings_cnt.columns = [\"movieId\", \"ratingsCount\"]"
   ]
  },
  {
   "cell_type": "code",
   "execution_count": null,
   "metadata": {
    "collapsed": false
   },
   "outputs": [],
   "source": [
    "with open(my_path[0]+'/explore/ratings_cnt.pik', 'wb') as handle:\n",
    "    pickle.dump(ratings_cnt, handle, protocol=pickle.HIGHEST_PROTOCOL)"
   ]
  },
  {
   "cell_type": "code",
   "execution_count": 74,
   "metadata": {
    "collapsed": false
   },
   "outputs": [],
   "source": [
    "#Create df of user ids and ratings count\n",
    "user_ratings_filename = \"/ml-20/usersCnt.csv\"\n",
    "user_ratings_cnt = pd.read_csv(my_path[0]+user_ratings_filename, index_col=None, sep=',')"
   ]
  },
  {
   "cell_type": "code",
   "execution_count": 78,
   "metadata": {
    "collapsed": false
   },
   "outputs": [],
   "source": [
    "user_ratings_cnt[\"ratingsCount\"].describe()\n",
    "with open(my_path[0]+'/explore/user_ratings_cnt.pik', 'wb') as handle:\n",
    "    pickle.dump(user_ratings_cnt, handle, protocol=pickle.HIGHEST_PROTOCOL)"
   ]
  },
  {
   "cell_type": "code",
   "execution_count": null,
   "metadata": {
    "collapsed": false
   },
   "outputs": [],
   "source": [
    "(n, bins, patches) = plt.hist(ratings_cnt[\"ratingsCount\"], bins=np.arange(1,1000, 100))\n",
    "plt.show()"
   ]
  },
  {
   "cell_type": "code",
   "execution_count": 5,
   "metadata": {
    "collapsed": false
   },
   "outputs": [
    {
     "data": {
      "text/plain": [
       "count    138492.000000\n",
       "mean        144.411879\n",
       "std         230.267269\n",
       "min          20.000000\n",
       "25%          35.000000\n",
       "50%          68.000000\n",
       "75%         155.000000\n",
       "max        9254.000000\n",
       "Name: ratingsCount, dtype: float64"
      ]
     },
     "execution_count": 5,
     "metadata": {},
     "output_type": "execute_result"
    }
   ],
   "source": [
    "# Get movie and user ratings\n",
    "ratings_cnt = pickle.load(open(my_path[0]+'/explore/ratings_cnt.pik', 'rb'))\n",
    "user_ratings_cnt = pickle.load(open(my_path[0]+'/explore/user_ratings_cnt.pik', 'rb'))\n",
    "#ratings_cnt.describe()\n",
    "user_ratings_cnt[\"ratingsCount\"].describe()"
   ]
  },
  {
   "cell_type": "code",
   "execution_count": 8,
   "metadata": {
    "collapsed": false
   },
   "outputs": [
    {
     "data": {
      "text/plain": [
       "count    26744.000000\n",
       "mean       747.841123\n",
       "std       3085.818268\n",
       "min          1.000000\n",
       "25%          3.000000\n",
       "50%         18.000000\n",
       "75%        205.000000\n",
       "max      67310.000000\n",
       "Name: ratingsCount, dtype: float64"
      ]
     },
     "execution_count": 8,
     "metadata": {},
     "output_type": "execute_result"
    }
   ],
   "source": [
    "ratings_cnt[\"ratingsCount\"].describe()"
   ]
  },
  {
   "cell_type": "code",
   "execution_count": 15,
   "metadata": {
    "collapsed": false
   },
   "outputs": [
    {
     "name": "stdout",
     "output_type": "stream",
     "text": [
      "[4485    0    0 ...,    0    0    1]\n",
      "[   20.            20.06667533    20.13335066 ...,  9253.86664934\n",
      "  9253.93332467  9254.        ]\n",
      "3.23845420674\n",
      "137\n",
      "2594\n",
      "(26744,)\n"
     ]
    },
    {
     "data": {
      "image/png": "[encoded data removed]",
      "text/plain": [
       "<matplotlib.figure.Figure at 0x7fbb4ee53310>"
      ]
     },
     "metadata": {},
     "output_type": "display_data"
    }
   ],
   "source": [
    "NUM_MOVIE_BINS = len(ratings_cnt[\"ratingsCount\"])\n",
    "NUM_USER_BINS = len(user_ratings_cnt[\"ratingsCount\"])\n",
    "movie_counts, bin_edges = np.histogram(ratings_cnt[\"ratingsCount\"], bins=NUM_MOVIE_BINS)\n",
    "movie_cdf = np.cumsum(movie_counts,dtype=float)\n",
    "\n",
    "user_counts, bin_edges = np.histogram(user_ratings_cnt[\"ratingsCount\"], bins=NUM_USER_BINS)\n",
    "print user_counts\n",
    "print bin_edges\n",
    "user_cdf = np.cumsum(user_counts,dtype=float)\n",
    "\n",
    "\n",
    "movie_cdf = movie_cdf/max(movie_cdf)*100.0\n",
    "user_cdf = user_cdf/max(user_cdf)*100.0\n",
    "#print user_cdf\n",
    "fig,ax = plt.subplots()\n",
    "fig.set_size_inches(10,10)\n",
    "XMIN = 20.0\n",
    "XMAX = max(NUM_MOVIE_BINS,NUM_USER_BINS)\n",
    "plt.xlim(xmin=XMIN,xmax=XMAX)\n",
    "plt.ylim(ymin=0.0,ymax=105)\n",
    "print user_cdf[0]\n",
    "for i in range(NUM_MOVIE_BINS):\n",
    "    if movie_cdf[i] >= 80.0: # Finding the top 20 percentile\n",
    "        print i\n",
    "        break\n",
    "for i in range(NUM_USER_BINS):\n",
    "    if user_cdf[i] >= 80.0: # Finding the top 20 percentile\n",
    "        print i\n",
    "        break\n",
    "        \n",
    "        \n",
    "        \n",
    "ax.set_xscale('symlog', basex=10)\n",
    "\n",
    "print movie_cdf.shape\n",
    "plt.plot(movie_cdf,linewidth=2,linestyle=\"-\",color=\"#008000\")\n",
    "plt.plot(user_cdf,linewidth=4,linestyle=\":\",color=\"#0000ff\")\n",
    "plt.plot([XMIN, XMAX], [80, 80], linewidth=1, linestyle=\"--\",color=\"#ff0000\")\n",
    "ax.set_title(\"MovieLens 20M: Movie and User Ratings\",fontsize=18)\n",
    "ax.set_xlabel(\"Ratings\",fontsize=14)\n",
    "ax.set_ylabel(\"Fraction(%)\",fontsize=14)\n",
    "ax.legend([\"Movies\",\"Users\"],loc=\"upper left\",fontsize=18)\n",
    "ax.text(137-2,78,\"137\",color=\"#ff0000\")\n",
    "ax.text(2594-2,78,\"2594\",color=\"#ff0000\")\n",
    "plt.xticks([20,100,1000,10000,100000],[\"20\",\"100\",\"1000\",\"10000\",\"100000\"])\n",
    "plt.savefig(\"movies_and_user_histogram.pdf\",dpi=200)"
   ]
  },
  {
   "cell_type": "code",
   "execution_count": null,
   "metadata": {
    "collapsed": true
   },
   "outputs": [],
   "source": [
    "MOVIE_CUTOFF = 137\n",
    "USER_CUTOFF = 2594\n",
    "filetered_movie_ratings_cnt = \n"
   ]
  }
 ],
 "metadata": {
  "kernelspec": {
   "display_name": "Python 2",
   "language": "python",
   "name": "python2"
  },
  "language_info": {
   "codemirror_mode": {
    "name": "ipython",
    "version": 2
   },
   "file_extension": ".py",
   "mimetype": "text/x-python",
   "name": "python",
   "nbconvert_exporter": "python",
   "pygments_lexer": "ipython2",
   "version": "2.7.11"
  }
 },
 "nbformat": 4,
 "nbformat_minor": 0
}
