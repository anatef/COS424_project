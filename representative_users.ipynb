{
 "cells": [
  {
   "cell_type": "code",
   "execution_count": 13,
   "metadata": {
    "collapsed": false
   },
   "outputs": [
    {
     "data": {
      "text/html": [
       "<style>.container { width:100% !important; }</style>"
      ],
      "text/plain": [
       "<IPython.core.display.HTML object>"
      ]
     },
     "execution_count": 13,
     "metadata": {},
     "output_type": "execute_result"
    }
   ],
   "source": [
    "%matplotlib inline\n",
    "\n",
    "import numpy as np\n",
    "import pandas as pd\n",
    "import pickle\n",
    "from sklearn.cluster import k_means\n",
    "from random import randrange\n",
    "\n",
    "\n",
    "#Fit the code to the screen\n",
    "from IPython.core.display import HTML\n",
    "HTML(\"<style>.container { width:100% !important; }</style>\")"
   ]
  },
  {
   "cell_type": "code",
   "execution_count": 2,
   "metadata": {
    "collapsed": true
   },
   "outputs": [],
   "source": [
    "my_path = !pwd\n",
    "with open(my_path[0]+'/features/user_features_advanced.pik', 'rb') as handle:\n",
    "    user_features = pickle.load(handle)\n",
    "with open(my_path[0]+'/features/movie_features.pik', 'rb') as handle:\n",
    "    movies_features = pickle.load(handle)"
   ]
  },
  {
   "cell_type": "code",
   "execution_count": 3,
   "metadata": {
    "collapsed": true
   },
   "outputs": [],
   "source": [
    "user_features_for_cluser = user_features.copy(deep=True)\n",
    "#UserId is not an informative feature\n",
    "del user_features_for_cluser[\"userId\"]\n",
    "#Binarizing the gender feature (M=1, F=0)\n",
    "user_features_for_cluser[\"gender\"] = user_features_for_cluser['gender'].apply(lambda x: 1 if (x==\"M\") else 0)"
   ]
  },
  {
   "cell_type": "code",
   "execution_count": 5,
   "metadata": {
    "collapsed": true
   },
   "outputs": [],
   "source": [
    "#Create 10 clusters using k-means\n",
    "users_10_kmeans = k_means(user_features_for_cluser, 10, n_jobs=-1)\n",
    "with open(my_path[0]+'/clustering/users_10_kmeans.pik', 'wb') as handle:\n",
    "    pickle.dump(users_10_kmeans, handle, protocol=pickle.HIGHEST_PROTOCOL)"
   ]
  },
  {
   "cell_type": "code",
   "execution_count": 15,
   "metadata": {
    "collapsed": false
   },
   "outputs": [
    {
     "name": "stdout",
     "output_type": "stream",
     "text": [
      "Cluster 0 : 457\n",
      "Cluster 1 : 2768\n",
      "Cluster 2 : 1980\n",
      "Cluster 3 : 402\n",
      "Cluster 4 : 4126\n",
      "Cluster 5 : 3418\n",
      "Cluster 6 : 1112\n",
      "Cluster 7 : 3119\n",
      "Cluster 8 : 1737\n",
      "Cluster 9 : 1322\n"
     ]
    }
   ],
   "source": [
    "#Choose one randomely from each cluster\n",
    "rep_users = []\n",
    "\n",
    "for i in range(10):\n",
    "    cluster_indices = (np.where(users_10_kmeans[1]==i))[0]\n",
    "    cluster_user_ids = [j+1 for j in cluster_indices]\n",
    "    cluster_rand_idx = randrange(0,len(cluster_user_ids))\n",
    "    print \"Cluster \"+str(i)+\" : \"+str(cluster_user_ids[cluster_rand_idx])\n",
    "    rep_users.append(cluster_user_ids[cluster_rand_idx])"
   ]
  },
  {
   "cell_type": "code",
   "execution_count": 16,
   "metadata": {
    "collapsed": false
   },
   "outputs": [
    {
     "data": {
      "text/plain": [
       "[457, 2768, 1980, 402, 4126, 3418, 1112, 3119, 1737, 1322]"
      ]
     },
     "execution_count": 16,
     "metadata": {},
     "output_type": "execute_result"
    }
   ],
   "source": [
    "rep_users"
   ]
  }
 ],
 "metadata": {
  "kernelspec": {
   "display_name": "Python 2",
   "language": "python",
   "name": "python2"
  },
  "language_info": {
   "codemirror_mode": {
    "name": "ipython",
    "version": 2
   },
   "file_extension": ".py",
   "mimetype": "text/x-python",
   "name": "python",
   "nbconvert_exporter": "python",
   "pygments_lexer": "ipython2",
   "version": "2.7.10"
  }
 },
 "nbformat": 4,
 "nbformat_minor": 0
}
