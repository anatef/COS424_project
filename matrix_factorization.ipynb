{
 "cells": [
  {
   "cell_type": "code",
   "execution_count": 64,
   "metadata": {
    "collapsed": false
   },
   "outputs": [
    {
     "data": {
      "text/html": [
       "<style>.container { width:100% !important; }</style>"
      ],
      "text/plain": [
       "<IPython.core.display.HTML object>"
      ]
     },
     "execution_count": 64,
     "metadata": {},
     "output_type": "execute_result"
    }
   ],
   "source": [
    "%matplotlib inline\n",
    "\n",
    "import numpy as np\n",
    "import pandas as pd\n",
    "import pickle\n",
    "import matplotlib.pyplot as plt\n",
    "from scipy.sparse import csr_matrix, csc_matrix\n",
    "import random as random\n",
    "from sklearn.decomposition import NMF\n",
    "#Fit the code to the screen\n",
    "from IPython.core.display import HTML\n",
    "HTML(\"<style>.container { width:100% !important; }</style>\")"
   ]
  },
  {
   "cell_type": "markdown",
   "metadata": {},
   "source": [
    "### Reading the ratings data"
   ]
  },
  {
   "cell_type": "code",
   "execution_count": 3,
   "metadata": {
    "collapsed": false
   },
   "outputs": [
    {
     "name": "stderr",
     "output_type": "stream",
     "text": [
      "/home/anat/anaconda2/lib/python2.7/site-packages/ipykernel/__main__.py:4: ParserWarning: Falling back to the 'python' engine because the 'c' engine does not support regex separators; you can avoid this warning by specifying engine='python'.\n"
     ]
    }
   ],
   "source": [
    "#Reading the ratings data\n",
    "my_path = !pwd\n",
    "ratings_filename = \"/ml-1m/ratings.dat\"\n",
    "dfratings = pd.read_csv(my_path[0]+ratings_filename, index_col=None, sep='::', header=None)\n",
    "dfratings.columns = [\"userId\", \"movieId\", \"rating\", \"timestamp\"]"
   ]
  },
  {
   "cell_type": "markdown",
   "metadata": {},
   "source": [
    "### Creating ratings sparse matrix"
   ]
  },
  {
   "cell_type": "code",
   "execution_count": 97,
   "metadata": {
    "collapsed": false
   },
   "outputs": [],
   "source": [
    "#Split to train and test sets\n",
    "test_idx = np.array(random.sample(range(0,len(dfratings)), int(len(dfratings)/10)))\n",
    "train_idx = set(np.arange(len(dfratings))) - set(test_idx)\n",
    "train_idx = list(train_idx)\n",
    "dfratings_test = dfratings.iloc[test_idx]\n",
    "dfratings_train = dfratings.iloc[train_idx]"
   ]
  },
  {
   "cell_type": "code",
   "execution_count": 99,
   "metadata": {
    "collapsed": true
   },
   "outputs": [],
   "source": [
    "users = (dfratings_train[\"userId\"]).unique()\n",
    "movies = (dfratings_train[\"movieId\"]).unique()\n",
    "users_num = max(users)\n",
    "movies_num = max(movies)\n",
    "users_num += 1\n",
    "movies_num += 1"
   ]
  },
  {
   "cell_type": "code",
   "execution_count": 100,
   "metadata": {
    "collapsed": false
   },
   "outputs": [],
   "source": [
    "train_csr = csr_matrix((dfratings_train['rating'],(dfratings_train['userId'],dfratings_train['movieId'])), shape=(users_num, movies_num), dtype=float)"
   ]
  },
  {
   "cell_type": "code",
   "execution_count": 101,
   "metadata": {
    "collapsed": false
   },
   "outputs": [
    {
     "data": {
      "text/plain": [
       "900189"
      ]
     },
     "execution_count": 101,
     "metadata": {},
     "output_type": "execute_result"
    }
   ],
   "source": [
    "#Checking that the number of non-zero entries is the number of ratings in the train set\n",
    "len(train_csr.nonzero()[0])"
   ]
  },
  {
   "cell_type": "code",
   "execution_count": null,
   "metadata": {
    "collapsed": true
   },
   "outputs": [],
   "source": [
    "#Maybe we want to use this: train_csr.eliminate_zeros()"
   ]
  }
 ],
 "metadata": {
  "kernelspec": {
   "display_name": "Python 2",
   "language": "python",
   "name": "python2"
  },
  "language_info": {
   "codemirror_mode": {
    "name": "ipython",
    "version": 2
   },
   "file_extension": ".py",
   "mimetype": "text/x-python",
   "name": "python",
   "nbconvert_exporter": "python",
   "pygments_lexer": "ipython2",
   "version": "2.7.10"
  }
 },
 "nbformat": 4,
 "nbformat_minor": 0
}
