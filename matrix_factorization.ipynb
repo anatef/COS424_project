{
 "cells": [
  {
   "cell_type": "code",
   "execution_count": 46,
   "metadata": {
    "collapsed": false
   },
   "outputs": [
    {
     "data": {
      "text/html": [
       "<style>.container { width:100% !important; }</style>"
      ],
      "text/plain": [
       "<IPython.core.display.HTML object>"
      ]
     },
     "execution_count": 46,
     "metadata": {},
     "output_type": "execute_result"
    }
   ],
   "source": [
    "%matplotlib inline\n",
    "\n",
    "import numpy as np\n",
    "import pandas as pd\n",
    "import pickle\n",
    "import matplotlib.pyplot as plt\n",
    "from sklearn.metrics import roc_curve, auc, precision_recall_curve,average_precision_score\n",
    "from sklearn.metrics import mean_squared_error,r2_score\n",
    "from scipy.sparse import csr_matrix, csc_matrix\n",
    "import random as random\n",
    "from sklearn.decomposition import NMF,TruncatedSVD\n",
    "#Fit the code to the screen\n",
    "from IPython.core.display import HTML\n",
    "HTML(\"<style>.container { width:100% !important; }</style>\")"
   ]
  },
  {
   "cell_type": "markdown",
   "metadata": {},
   "source": [
    "### Reading the ratings data"
   ]
  },
  {
   "cell_type": "code",
   "execution_count": 18,
   "metadata": {
    "collapsed": false
   },
   "outputs": [
    {
     "name": "stderr",
     "output_type": "stream",
     "text": [
      "/tank/home/adif/anaconda2/lib/python2.7/site-packages/ipykernel/__main__.py:4: ParserWarning: Falling back to the 'python' engine because the 'c' engine does not support regex separators; you can avoid this warning by specifying engine='python'.\n"
     ]
    }
   ],
   "source": [
    "#Reading the ratings data\n",
    "my_path = !pwd\n",
    "ratings_filename = \"/ml-1m/ratings.dat\"\n",
    "dfratings = pd.read_csv(my_path[0]+ratings_filename, index_col=None, sep='::', header=None)\n",
    "dfratings.columns = [\"userId\", \"movieId\", \"rating\", \"timestamp\"]"
   ]
  },
  {
   "cell_type": "markdown",
   "metadata": {},
   "source": [
    "### Creating ratings sparse matrix"
   ]
  },
  {
   "cell_type": "code",
   "execution_count": 26,
   "metadata": {
    "collapsed": false
   },
   "outputs": [
    {
     "name": "stdout",
     "output_type": "stream",
     "text": [
      "userId            1083\n",
      "movieId           2085\n",
      "rating               5\n",
      "timestamp    974934691\n",
      "Name: 170137, dtype: int64\n",
      "userId             169\n",
      "movieId              3\n",
      "rating               5\n",
      "timestamp    977202633\n",
      "Name: 23422, dtype: int64\n",
      "userId            6001\n",
      "movieId           3556\n",
      "rating               4\n",
      "timestamp    960441181\n",
      "Name: 993630, dtype: int64\n",
      "userId            2164\n",
      "movieId           1272\n",
      "rating               5\n",
      "timestamp    974615992\n",
      "Name: 369729, dtype: int64\n",
      "userId            5716\n",
      "movieId           2019\n",
      "rating               5\n",
      "timestamp    960325035\n",
      "Name: 946445, dtype: int64\n",
      "userId            4433\n",
      "movieId           1748\n",
      "rating               5\n",
      "timestamp    965099448\n",
      "Name: 741942, dtype: int64\n"
     ]
    }
   ],
   "source": [
    "#Split to train and test sets\n",
    "test_idx = np.array(random.sample(range(0,len(dfratings)), int(len(dfratings)/10)))\n",
    "train_idx = set(np.arange(len(dfratings))) - set(test_idx)\n",
    "train_idx = list(train_idx)\n",
    "dfratings_test = dfratings.iloc[test_idx]\n",
    "dfratings_train = dfratings.iloc[train_idx]\n",
    "i=0\n",
    "for i1,rows in dfratings_test.iterrows():\n",
    "    print rows\n",
    "    i+=1\n",
    "    if i>5:\n",
    "        break"
   ]
  },
  {
   "cell_type": "code",
   "execution_count": 99,
   "metadata": {
    "collapsed": true
   },
   "outputs": [],
   "source": [
    "users = (dfratings_train[\"userId\"]).unique()\n",
    "movies = (dfratings_train[\"movieId\"]).unique()\n",
    "users_num = max(users)\n",
    "movies_num = max(movies)\n",
    "users_num += 1\n",
    "movies_num += 1"
   ]
  },
  {
   "cell_type": "code",
   "execution_count": 51,
   "metadata": {
    "collapsed": false
   },
   "outputs": [],
   "source": [
    "predictions_dict = dict()\n",
    "train_csr = csr_matrix((dfratings_train['rating'],(dfratings_train['userId'],dfratings_train['movieId'])), shape=(users_num, movies_num), dtype=float)\n",
    "nmf_components_list = [4,8,16,32]\n",
    "for nmf_components in nmf_components_list:\n",
    "    nmf = NMF(n_components=nmf_components) \n",
    "    us = nmf.fit_transform(train_csr)\n",
    "    vt = nmf.components_\n",
    "    pred = [np.dot(us[row['userId'],:],vt[:,row['movieId']])  for index,row in dfratings_test.iterrows()]\n",
    "    for idx in range(len(pred)):\n",
    "        if pred[idx]<1:\n",
    "            pred[idx]=1\n",
    "        if pred[idx]>5:    \n",
    "            pred[idx]=5\n",
    "    predictions_dict[\"NMF{0}\".format(nmf_components)] = pred\n",
    "\n",
    "svd_components_list = [4,8,16,32]\n",
    "for svd_components in svd_components_list:\n",
    "    svd = TruncatedSVD(n_components=svd_components, random_state=42) \n",
    "    us = svd.fit_transform(train_csr)\n",
    "    vt = svd.components_\n",
    "    pred = [np.dot(us[row['userId'],:],vt[:,row['movieId']])  for index,row in dfratings_test.iterrows()]\n",
    "    for idx in range(len(pred)):\n",
    "        if pred[idx]<1:\n",
    "            pred[idx]=1\n",
    "        if pred[idx]>5:    \n",
    "            pred[idx]=5\n",
    "    predictions_dict[\"SVD{0}\".format(svd_components)] = pred\n"
   ]
  },
  {
   "cell_type": "code",
   "execution_count": 52,
   "metadata": {
    "collapsed": false
   },
   "outputs": [
    {
     "name": "stdout",
     "output_type": "stream",
     "text": [
      "SVD32 5.45202901691\n",
      "SVD4 6.26736789526\n",
      "SVD16 5.61379991596\n",
      "SVD8 5.89273567974\n"
     ]
    }
   ],
   "source": [
    "label = dfratings_test['rating'] # the real ratings\n",
    "for predictor in predictions_dict.keys():\n",
    "    print predictor, mean_squared_error(predictions_dict[predictor],label)\n"
   ]
  },
  {
   "cell_type": "code",
   "execution_count": null,
   "metadata": {
    "collapsed": true
   },
   "outputs": [],
   "source": [
    "#Maybe we want to use this: train_csr.eliminate_zeros()"
   ]
  }
 ],
 "metadata": {
  "kernelspec": {
   "display_name": "Python 2",
   "language": "python",
   "name": "python2"
  },
  "language_info": {
   "codemirror_mode": {
    "name": "ipython",
    "version": 2
   },
   "file_extension": ".py",
   "mimetype": "text/x-python",
   "name": "python",
   "nbconvert_exporter": "python",
   "pygments_lexer": "ipython2",
   "version": "2.7.11"
  }
 },
 "nbformat": 4,
 "nbformat_minor": 0
}
