{
 "cells": [
  {
   "cell_type": "code",
   "execution_count": 200,
   "metadata": {
    "collapsed": false
   },
   "outputs": [
    {
     "data": {
      "text/html": [
       "<style>.container { width:100% !important; }</style>"
      ],
      "text/plain": [
       "<IPython.core.display.HTML object>"
      ]
     },
     "execution_count": 200,
     "metadata": {},
     "output_type": "execute_result"
    }
   ],
   "source": [
    "%matplotlib inline\n",
    "\n",
    "import numpy as np\n",
    "import pandas as pd\n",
    "import pickle\n",
    "import matplotlib.pyplot as plt\n",
    "import random as random\n",
    "from sklearn.cluster import k_means\n",
    "from sklearn.metrics import mean_squared_error,r2_score\n",
    "import statsmodels.api as sm\n",
    "from sklearn import cross_validation\n",
    "\n",
    "#Fit the code to the screen\n",
    "from IPython.core.display import HTML\n",
    "HTML(\"<style>.container { width:100% !important; }</style>\")"
   ]
  },
  {
   "cell_type": "code",
   "execution_count": 2,
   "metadata": {
    "collapsed": true
   },
   "outputs": [],
   "source": [
    "my_path = !pwd\n",
    "with open(my_path[0]+'/features/user_features_advanced.pik', 'rb') as handle:\n",
    "    user_features = pickle.load(handle)\n",
    "with open(my_path[0]+'/features/movie_features.pik', 'rb') as handle:\n",
    "    movies_features = pickle.load(handle)"
   ]
  },
  {
   "cell_type": "code",
   "execution_count": 18,
   "metadata": {
    "collapsed": false
   },
   "outputs": [],
   "source": [
    "user_features_for_cluser = user_features.copy(deep=True)\n",
    "#UserId is not an informative feature\n",
    "del user_features_for_cluser[\"userId\"]\n",
    "#Binarizing the gender feature (M=1, F=0)\n",
    "user_features_for_cluser[\"gender\"] = user_features_for_cluser['gender'].apply(lambda x: 1 if (x==\"M\") else 0)"
   ]
  },
  {
   "cell_type": "code",
   "execution_count": 5,
   "metadata": {
    "collapsed": false
   },
   "outputs": [
    {
     "name": "stderr",
     "output_type": "stream",
     "text": [
      "/home/anat/anaconda2/lib/python2.7/site-packages/ipykernel/__main__.py:3: ParserWarning: Falling back to the 'python' engine because the 'c' engine does not support regex separators; you can avoid this warning by specifying engine='python'.\n",
      "  app.launch_new_instance()\n"
     ]
    }
   ],
   "source": [
    "#Reading the ratings data\n",
    "ratings_filename = \"/ml-1m/ratings.dat\"\n",
    "dfratings = pd.read_csv(my_path[0]+ratings_filename, index_col=None, sep='::', header=None)\n",
    "dfratings.columns = [\"userId\", \"movieId\", \"rating\", \"timestamp\"]"
   ]
  },
  {
   "cell_type": "markdown",
   "metadata": {},
   "source": [
    "## Users clustering"
   ]
  },
  {
   "cell_type": "code",
   "execution_count": 29,
   "metadata": {
    "collapsed": false
   },
   "outputs": [],
   "source": [
    "#Create 1000 clusters using k-means and addrs as feature\n",
    "users_100_kmeans = k_means(user_features_for_cluser, 100, n_jobs=-1)\n",
    "with open(my_path[0]+'/clustering/users_100_kmeans.pik', 'wb') as handle:\n",
    "    pickle.dump(users_100_kmeans, handle, protocol=pickle.HIGHEST_PROTOCOL)"
   ]
  },
  {
   "cell_type": "code",
   "execution_count": 44,
   "metadata": {
    "collapsed": false
   },
   "outputs": [],
   "source": [
    "users_50_kmeans = k_means(user_features_for_cluser, 50, n_jobs=-1)\n",
    "with open(my_path[0]+'/clustering/users_100_kmeans.pik', 'wb') as handle:\n",
    "    pickle.dump(users_50_kmeans, handle, protocol=pickle.HIGHEST_PROTOCOL)"
   ]
  },
  {
   "cell_type": "code",
   "execution_count": 60,
   "metadata": {
    "collapsed": true
   },
   "outputs": [],
   "source": [
    "#For example, find all users in the cluster of user 1:\n",
    "user_cluster = users_50_kmeans[1][1]\n",
    "cluster_indices = (np.where(users_50_kmeans[1]==user_cluster))[0]"
   ]
  },
  {
   "cell_type": "code",
   "execution_count": 127,
   "metadata": {
    "collapsed": false
   },
   "outputs": [],
   "source": [
    "N = dfratings.shep[0]"
   ]
  },
  {
   "cell_type": "code",
   "execution_count": 208,
   "metadata": {
    "collapsed": true
   },
   "outputs": [],
   "source": [
    "predicted_movieIds = (user_ratings[\"movieId\"])[user_ratings_test_indices]\n",
    "real_ratings = (user_ratings[\"rating\"])[user_ratings_test_indices]"
   ]
  },
  {
   "cell_type": "markdown",
   "metadata": {},
   "source": [
    "### Predict using the user's cluster ratings"
   ]
  },
  {
   "cell_type": "code",
   "execution_count": 235,
   "metadata": {
    "collapsed": false
   },
   "outputs": [],
   "source": [
    "#Order the movie ids according to their ratings, from highest to lowest rating\n",
    "def order_by_rating(movie_ids, ratings):\n",
    "    movies_ar = np.array(movie_ids)\n",
    "    ratings_ar = np.array(ratings)\n",
    "    inds = ratings_ar.argsort()\n",
    "    sorted_movie_ids = movies_ar[inds]\n",
    "    de_sorted_movie_ids = np.fliplr([sorted_movie_ids])[0]\n",
    "    \n",
    "    return de_sorted_movie_ids"
   ]
  },
  {
   "cell_type": "code",
   "execution_count": 154,
   "metadata": {
    "collapsed": true
   },
   "outputs": [],
   "source": [
    "#Retrurn the average rating of movie_id by the group users_id\n",
    "def avg_movie_rating(users_ids, movie_id):\n",
    "    ratings_sum = 0\n",
    "    ratings_num = 0\n",
    "    for userId in users_ids:\n",
    "        user_ratings = dfratings[dfratings[\"userId\"] == userId]\n",
    "        movie_rating = user_ratings[user_ratings[\"movieId\"] == movie_id][\"rating\"]\n",
    "        if (len(movie_rating) > 0):\n",
    "            score = movie_rating.item()\n",
    "            ratings_sum += score\n",
    "            ratings_num += 1,\n",
    "    \n",
    "    #Calculate the average\n",
    "    if (ratings_num > 0):\n",
    "        ratings_avg = ratings_sum/float(ratings_num)\n",
    "    else:\n",
    "        ratings_avg = 0\n",
    "    return ratings_avg"
   ]
  },
  {
   "cell_type": "code",
   "execution_count": null,
   "metadata": {
    "collapsed": true
   },
   "outputs": [],
   "source": [
    "tested_userIds = [457, 2768, 1980, 402, 4126, 3418, 1112, 3119, 1737, 1322]"
   ]
  },
  {
   "cell_type": "code",
   "execution_count": 291,
   "metadata": {
    "collapsed": false
   },
   "outputs": [
    {
     "name": "stdout",
     "output_type": "stream",
     "text": [
      "Finished user: 457\n",
      "Finished user: 2768\n",
      "Finished user: 1980\n",
      "Finished user: 402\n",
      "Finished user: 4126\n",
      "Finished user: 3418\n",
      "Finished user: 1112\n",
      "Finished user: 3119\n",
      "Finished user: 1737\n",
      "Finished user: 1322\n"
     ]
    }
   ],
   "source": [
    "#For each user, predict for random 10% of its rated movies\n",
    "random_seed = 42\n",
    "ndcg_all_users_k5 = []\n",
    "ndcg_all_users_k10 = []\n",
    "ndcg_all_users_k15 = []\n",
    "ndcg_all_users_k20 = []\n",
    "for tested_userId in tested_userIds:\n",
    "    #Get the ratings for that user\n",
    "    user_ratings = dfratings[dfratings[\"userId\"] == tested_userId]\n",
    "    user_ratings.reset_index(inplace=True)\n",
    "    \n",
    "    #Choose randomly 10% of the ratings\n",
    "    user_ratings_shuffle_indices = cross_validation.ShuffleSplit(len(user_ratings), n_iter=10, test_size=0.1, random_state=random_seed)\n",
    "    \n",
    "    #Save the ndcg for each 10% reviews\n",
    "    ndcg_user_k5 = []\n",
    "    ndcg_user_k10 = []\n",
    "    ndcg_user_k15 = []\n",
    "    ndcg_user_k20 = []\n",
    "    \n",
    "    #Predict rating for the chosen 10% ratings\n",
    "    for dummy_train_indices, user_ratings_test_indices in user_ratings_shuffle_indices:\n",
    "       \n",
    "        #Get the 10% movie ids\n",
    "        predicted_movieIds = (user_ratings[\"movieId\"])[user_ratings_test_indices]\n",
    "        real_ratings = (user_ratings[\"rating\"])[user_ratings_test_indices]\n",
    "        #real_order = order_by_rating(predicted_movieIds, real_ratings)\n",
    "        \n",
    "        #predict rating for (userId, movieId) using cluster average and user effect\n",
    "        pred_avg_effect = []\n",
    "        for movieId in predicted_movieIds:\n",
    "            user_cluster = users_50_kmeans[1][userId-1] #the index in cluster is 1 decrement from the id\n",
    "            cluster_indices = ((np.where(users_50_kmeans[1]==user_cluster))[0]).tolist()\n",
    "            cluster_user_ids = [i+1 for i in cluster_indices]\n",
    "            cluster_user_ids.remove(userId)\n",
    "            \n",
    "            #Get the average rating for the other cluster members\n",
    "            cluster_avg_rating = avg_movie_rating(cluster_user_ids, movieId)\n",
    "            \n",
    "            #If no one in the cluster have seen the movie\n",
    "            if (cluster_avg_rating == 0):\n",
    "                cluster_avg_rating = movies_features[movies_features[\"movieId\"] == movieId][\"avg_rate\"].item()\n",
    "            \n",
    "            #Adding the user effect to the average\n",
    "            user_effect = user_features[user_features[\"userId\"] == userId][\"avg_score_diff\"].item()\n",
    "            pred_rating = cluster_avg_rating + user_effect\n",
    "            if (pred_rating > 5):\n",
    "                pred_rating = 5\n",
    "            if (pred_rating < 0):\n",
    "                pred_rating = 0\n",
    "                \n",
    "            #Adding to ratings_results\n",
    "            pred_avg_effect.append(pred_rating)\n",
    "            \n",
    "        #NDCG calculations\n",
    "        if (len(real_ratings) >= 5):\n",
    "            avg_effect_ndcg_k5 = ndcg_score(real_ratings, pred_avg_effect, k=5)\n",
    "            ndcg_user_k5.append(avg_effect_ndcg_k5)\n",
    "        else:\n",
    "            ndcg_user_k5.append(None)\n",
    "        \n",
    "        if (len(real_ratings) >= 10):\n",
    "            avg_effect_ndcg_k10 = ndcg_score(real_ratings, pred_avg_effect, k=10)\n",
    "            ndcg_user_k10.append(avg_effect_ndcg_k10)\n",
    "        else:\n",
    "            ndcg_user_k10.append(None)\n",
    "        \n",
    "        if (len(real_ratings) >= 15):\n",
    "            avg_effect_ndcg_k15 = ndcg_score(real_ratings, pred_avg_effect, k=15)\n",
    "            ndcg_user_k15.append(avg_effect_ndcg_k15)\n",
    "        else:\n",
    "            ndcg_user_k15.append(None)\n",
    "            \n",
    "        if (len(real_ratings) >= 20):\n",
    "            avg_effect_ndcg_k20 = ndcg_score(real_ratings, pred_avg_effect, k=20)\n",
    "            ndcg_user_k20.append(avg_effect_ndcg_k20)\n",
    "        else:\n",
    "            ndcg_user_k20.append(None)\n",
    "            \n",
    "    \n",
    "    #Add all the user ndcg scores to the big arrays\n",
    "    ndcg_all_users_k5.append(ndcg_user_k5)\n",
    "    ndcg_all_users_k10.append(ndcg_user_k10)\n",
    "    ndcg_all_users_k15.append(ndcg_user_k15)\n",
    "    ndcg_all_users_k20.append(ndcg_user_k20)\n",
    "    \n",
    "    print \"Finished user: \"+str(tested_userId)\n",
    "    \n",
    "        #Ordering 10% movies using the predicted ranking\n",
    "        #avg_effect_order = order_by_rating(predicted_movieIds, pred_avg_effect)\n",
    "        #size = len(predicted_movieIds)\n",
    "        #avg_dcg = dcg_score(real_order, avg_order k=size)\n",
    "        #avg_effect_dcg = dcg_score(real_order, avg_effect_order k=size)"
   ]
  },
  {
   "cell_type": "code",
   "execution_count": 297,
   "metadata": {
    "collapsed": false
   },
   "outputs": [],
   "source": [
    "with open(my_path[0]+'/clustering/ndcg_all_users_k5.pik', 'wb') as handle:\n",
    "    pickle.dump(ndcg_all_users_k5, handle, protocol=pickle.HIGHEST_PROTOCOL)\n",
    "with open(my_path[0]+'/clustering/ndcg_all_users_k10.pik', 'wb') as handle:\n",
    "    pickle.dump(ndcg_all_users_k10, handle, protocol=pickle.HIGHEST_PROTOCOL)\n",
    "with open(my_path[0]+'/clustering/ndcg_all_users_k15.pik', 'wb') as handle:\n",
    "    pickle.dump(ndcg_all_users_k15, handle, protocol=pickle.HIGHEST_PROTOCOL)\n",
    "with open(my_path[0]+'/clustering/ndcg_all_users_k20.pik', 'wb') as handle:\n",
    "    pickle.dump(ndcg_all_users_k20, handle, protocol=pickle.HIGHEST_PROTOCOL)"
   ]
  },
  {
   "cell_type": "code",
   "execution_count": 192,
   "metadata": {
    "collapsed": false
   },
   "outputs": [
    {
     "name": "stdout",
     "output_type": "stream",
     "text": [
      "0.219286245711 1.03202863465\n"
     ]
    }
   ],
   "source": [
    "print r2_score(label, pred_avg_effect), \n",
    "print mean_squared_error(label, pred_avg_effect)"
   ]
  },
  {
   "cell_type": "code",
   "execution_count": 191,
   "metadata": {
    "collapsed": false
   },
   "outputs": [
    {
     "name": "stdout",
     "output_type": "stream",
     "text": [
      "pred_avg_effect: RMSE- 1.01588810144\n",
      "pred_avg_effect: R - 0.495525578846\n",
      "                            OLS Regression Results                            \n",
      "==============================================================================\n",
      "Dep. Variable:                      y   R-squared:                       0.246\n",
      "Model:                            OLS   Adj. R-squared:                  0.245\n",
      "Method:                 Least Squares   F-statistic:                     324.8\n",
      "Date:                Tue, 03 May 2016   Prob (F-statistic):           4.41e-63\n",
      "Time:                        21:12:03   Log-Likelihood:                -995.08\n",
      "No. Observations:                1000   AIC:                             1994.\n",
      "Df Residuals:                     998   BIC:                             2004.\n",
      "Df Model:                           1                                         \n",
      "Covariance Type:            nonrobust                                         \n",
      "==============================================================================\n",
      "                 coef    std err          t      P>|t|      [95.0% Conf. Int.]\n",
      "------------------------------------------------------------------------------\n",
      "const          2.4370      0.067     36.112      0.000         2.305     2.569\n",
      "rating         0.3248      0.018     18.022      0.000         0.289     0.360\n",
      "==============================================================================\n",
      "Omnibus:                       60.575   Durbin-Watson:                   1.953\n",
      "Prob(Omnibus):                  0.000   Jarque-Bera (JB):               82.295\n",
      "Skew:                          -0.525   Prob(JB):                     1.35e-18\n",
      "Kurtosis:                       3.933   Cond. No.                         13.0\n",
      "==============================================================================\n",
      "\n",
      "Warnings:\n",
      "[1] Standard Errors assume that the covariance matrix of the errors is correctly specified.\n"
     ]
    },
    {
     "data": {
      "image/png": "[encoded data removed]",
      "text/plain": [
       "<matplotlib.figure.Figure at 0x7fc65e7fa0d0>"
      ]
     },
     "metadata": {},
     "output_type": "display_data"
    }
   ],
   "source": [
    "name = \"pred_avg_effect\"\n",
    "y_predict = label\n",
    "predictions = pred_avg_effect\n",
    "\n",
    "# fit a linear regression line\n",
    "xs = y_predict\n",
    "ys = predictions\n",
    "results = sm.OLS(ys,sm.add_constant(xs)).fit()\n",
    "# compute root mean squared error\n",
    "mean_sq_error = np.mean((y_predict-predictions)**2)\n",
    "print name + \": RMSE- \" + str(np.sqrt(mean_sq_error))\n",
    "\n",
    "#Compute R\n",
    "r = np.corrcoef(y_predict,predictions)[0][1]\n",
    "print name + \": R - \"+str(r)\n",
    "\n",
    "print results.summary()\n",
    "\n",
    "#plot\n",
    "plt.subplot(2, 1, 1)\n",
    "plt.scatter(xs,ys)\n",
    "plt.plot(xs, xs*results.params[1] + results.params[0],rasterized=True)\n",
    "plt.xlabel('Ground Truth')\n",
    "plt.ylabel('Predictions')\n",
    "plt.title(name + ': Plot of Ground Truth Methylation values vs. Predictions ( Training Data)')\n",
    "plt.subplot(2, 1, 2)\n",
    "hist,bin_edges = np.histogram((y_predict-predictions),bins=100,density=True)\n",
    "plt.title(name + ': Prediction error PDF')\n",
    "plt.xlabel('Error value')\n",
    "plt.ylabel('Probablity Density')    \n",
    "plt.scatter(bin_edges[:-1],hist)\n",
    "plt.xlim(min(bin_edges), max(bin_edges))\n",
    "plt.ylim(min(hist), max(hist))\n",
    "plt.tight_layout()\n",
    "plt.savefig(my_path[0]+\"/\"+name+\"_prediction_plot.png\",dpi=200,bbox_inches='tight')\n",
    "plt.show()"
   ]
  },
  {
   "cell_type": "code",
   "execution_count": 194,
   "metadata": {
    "collapsed": false
   },
   "outputs": [
    {
     "data": {
      "text/plain": [
       "122.92686622450273"
      ]
     },
     "execution_count": 194,
     "metadata": {},
     "output_type": "execute_result"
    }
   ],
   "source": [
    "dcg_score(label, pred_avg_effect)"
   ]
  },
  {
   "cell_type": "code",
   "execution_count": 193,
   "metadata": {
    "collapsed": true
   },
   "outputs": [],
   "source": [
    "# (C) Mathieu Blondel, November 2013\n",
    "# License: BSD 3 clause\n",
    "\n",
    "import numpy as np\n",
    "\n",
    "\n",
    "def ranking_precision_score(y_true, y_score, k=10):\n",
    "    \"\"\"Precision at rank k\n",
    "\n",
    "    Parameters\n",
    "    ----------\n",
    "    y_true : array-like, shape = [n_samples]\n",
    "        Ground truth (true relevance labels).\n",
    "\n",
    "    y_score : array-like, shape = [n_samples]\n",
    "        Predicted scores.\n",
    "\n",
    "    k : int\n",
    "        Rank.\n",
    "\n",
    "    Returns\n",
    "    -------\n",
    "    precision @k : float\n",
    "    \"\"\"\n",
    "    unique_y = np.unique(y_true)\n",
    "\n",
    "    if len(unique_y) > 2:\n",
    "        raise ValueError(\"Only supported for two relevance levels.\")\n",
    "\n",
    "    pos_label = unique_y[1]\n",
    "    n_pos = np.sum(y_true == pos_label)\n",
    "\n",
    "    order = np.argsort(y_score)[::-1]\n",
    "    y_true = np.take(y_true, order[:k])\n",
    "    n_relevant = np.sum(y_true == pos_label)\n",
    "\n",
    "    # Divide by min(n_pos, k) such that the best achievable score is always 1.0.\n",
    "    return float(n_relevant) / min(n_pos, k)\n",
    "\n",
    "\n",
    "def average_precision_score(y_true, y_score, k=10):\n",
    "    \"\"\"Average precision at rank k\n",
    "\n",
    "    Parameters\n",
    "    ----------\n",
    "    y_true : array-like, shape = [n_samples]\n",
    "        Ground truth (true relevance labels).\n",
    "\n",
    "    y_score : array-like, shape = [n_samples]\n",
    "        Predicted scores.\n",
    "\n",
    "    k : int\n",
    "        Rank.\n",
    "\n",
    "    Returns\n",
    "    -------\n",
    "    average precision @k : float\n",
    "    \"\"\"\n",
    "    unique_y = np.unique(y_true)\n",
    "\n",
    "    if len(unique_y) > 2:\n",
    "        raise ValueError(\"Only supported for two relevance levels.\")\n",
    "\n",
    "    pos_label = unique_y[1]\n",
    "    n_pos = np.sum(y_true == pos_label)\n",
    "\n",
    "    order = np.argsort(y_score)[::-1][:min(n_pos, k)]\n",
    "    y_true = np.asarray(y_true)[order]\n",
    "\n",
    "    score = 0\n",
    "    for i in xrange(len(y_true)):\n",
    "        if y_true[i] == pos_label:\n",
    "            # Compute precision up to document i\n",
    "            # i.e, percentage of relevant documents up to document i.\n",
    "            prec = 0\n",
    "            for j in xrange(0, i + 1):\n",
    "                if y_true[j] == pos_label:\n",
    "                    prec += 1.0\n",
    "            prec /= (i + 1.0)\n",
    "            score += prec\n",
    "\n",
    "    if n_pos == 0:\n",
    "        return 0\n",
    "\n",
    "    return score / n_pos\n",
    "\n",
    "\n",
    "def dcg_score(y_true, y_score, k=10, gains=\"exponential\"):\n",
    "    \"\"\"Discounted cumulative gain (DCG) at rank k\n",
    "\n",
    "    Parameters\n",
    "    ----------\n",
    "    y_true : array-like, shape = [n_samples]\n",
    "        Ground truth (true relevance labels).\n",
    "\n",
    "    y_score : array-like, shape = [n_samples]\n",
    "        Predicted scores.\n",
    "\n",
    "    k : int\n",
    "        Rank.\n",
    "\n",
    "    gains : str\n",
    "        Whether gains should be \"exponential\" (default) or \"linear\".\n",
    "\n",
    "    Returns\n",
    "    -------\n",
    "    DCG @k : float\n",
    "    \"\"\"\n",
    "    order = np.argsort(y_score)[::-1]\n",
    "    y_true = np.take(y_true, order[:k])\n",
    "\n",
    "    if gains == \"exponential\":\n",
    "        gains = 2 ** y_true - 1\n",
    "    elif gains == \"linear\":\n",
    "        gains = y_true\n",
    "    else:\n",
    "        raise ValueError(\"Invalid gains option.\")\n",
    "\n",
    "    # highest rank is 1 so +2 instead of +1\n",
    "    discounts = np.log2(np.arange(len(y_true)) + 2)\n",
    "    return np.sum(gains / discounts)\n",
    "\n",
    "\n",
    "def ndcg_score(y_true, y_score, k=10, gains=\"exponential\"):\n",
    "    \"\"\"Normalized discounted cumulative gain (NDCG) at rank k\n",
    "\n",
    "    Parameters\n",
    "    ----------\n",
    "    y_true : array-like, shape = [n_samples]\n",
    "        Ground truth (true relevance labels).\n",
    "\n",
    "    y_score : array-like, shape = [n_samples]\n",
    "        Predicted scores.\n",
    "\n",
    "    k : int\n",
    "        Rank.\n",
    "\n",
    "    gains : str\n",
    "        Whether gains should be \"exponential\" (default) or \"linear\".\n",
    "\n",
    "    Returns\n",
    "    -------\n",
    "    NDCG @k : float\n",
    "    \"\"\"\n",
    "    best = dcg_score(y_true, y_true, k, gains)\n",
    "    actual = dcg_score(y_true, y_score, k, gains)\n",
    "    return actual / best\n",
    "\n",
    "\n",
    "# Alternative API.\n",
    "\n",
    "def dcg_from_ranking(y_true, ranking):\n",
    "    \"\"\"Discounted cumulative gain (DCG) at rank k\n",
    "\n",
    "    Parameters\n",
    "    ----------\n",
    "    y_true : array-like, shape = [n_samples]\n",
    "        Ground truth (true relevance labels).\n",
    "\n",
    "    ranking : array-like, shape = [k]\n",
    "        Document indices, i.e.,\n",
    "            ranking[0] is the index of top-ranked document,\n",
    "            ranking[1] is the index of second-ranked document,\n",
    "            ...\n",
    "\n",
    "    k : int\n",
    "        Rank.\n",
    "\n",
    "    Returns\n",
    "    -------\n",
    "    DCG @k : float\n",
    "    \"\"\"\n",
    "    y_true = np.asarray(y_true)\n",
    "    ranking = np.asarray(ranking)\n",
    "    rel = y_true[ranking]\n",
    "    gains = 2 ** rel - 1\n",
    "    discounts = np.log2(np.arange(len(ranking)) + 2)\n",
    "    return np.sum(gains / discounts)\n",
    "\n",
    "\n",
    "def ndcg_from_ranking(y_true, ranking):\n",
    "    \"\"\"Normalized discounted cumulative gain (NDCG) at rank k\n",
    "\n",
    "    Parameters\n",
    "    ----------\n",
    "    y_true : array-like, shape = [n_samples]\n",
    "        Ground truth (true relevance labels).\n",
    "\n",
    "    ranking : array-like, shape = [k]\n",
    "        Document indices, i.e.,\n",
    "            ranking[0] is the index of top-ranked document,\n",
    "            ranking[1] is the index of second-ranked document,\n",
    "            ...\n",
    "\n",
    "    k : int\n",
    "        Rank.\n",
    "\n",
    "    Returns\n",
    "    -------\n",
    "    NDCG @k : float\n",
    "    \"\"\"\n",
    "    k = len(ranking)\n",
    "    best_ranking = np.argsort(y_true)[::-1]\n",
    "    best = dcg_from_ranking(y_true, best_ranking[:k])\n",
    "    return dcg_from_ranking(y_true, ranking) / best\n",
    "\n",
    "\n",
    "if __name__ == '__main__':\n",
    "\n",
    "    # Check that some rankings are better than others\n",
    "    assert dcg_score([5, 3, 2], [2, 1, 0]) > dcg_score([4, 3, 2], [2, 1, 0])\n",
    "    assert dcg_score([4, 3, 2], [2, 1, 0]) > dcg_score([1, 3, 2], [2, 1, 0])\n",
    "\n",
    "    assert dcg_score([5, 3, 2], [2, 1, 0], k=2) > dcg_score([4, 3, 2], [2, 1, 0], k=2)\n",
    "    assert dcg_score([4, 3, 2], [2, 1, 0], k=2) > dcg_score([1, 3, 2], [2, 1, 0], k=2)\n",
    "\n",
    "    # Perfect rankings\n",
    "    assert ndcg_score([5, 3, 2], [2, 1, 0]) == 1.0\n",
    "    assert ndcg_score([2, 3, 5], [0, 1, 2]) == 1.0\n",
    "    assert ndcg_from_ranking([5, 3, 2], [0, 1, 2]) == 1.0\n",
    "\n",
    "    assert ndcg_score([5, 3, 2], [2, 1, 0], k=2) == 1.0\n",
    "    assert ndcg_score([2, 3, 5], [0, 1, 2], k=2) == 1.0\n",
    "    assert ndcg_from_ranking([5, 3, 2], [0, 1]) == 1.0\n",
    "\n",
    "    # Check that sample order is irrelevant\n",
    "    assert dcg_score([5, 3, 2], [2, 1, 0]) == dcg_score([2, 3, 5], [0, 1, 2])\n",
    "\n",
    "    assert dcg_score([5, 3, 2], [2, 1, 0], k=2) == dcg_score([2, 3, 5], [0, 1, 2], k=2)\n",
    "\n",
    "    # Check equivalence between two interfaces.\n",
    "    assert dcg_score([5, 3, 2], [2, 1, 0]) == dcg_from_ranking([5, 3, 2], [0, 1, 2])\n",
    "    assert dcg_score([1, 3, 2], [2, 1, 0]) == dcg_from_ranking([1, 3, 2], [0, 1, 2])\n",
    "    assert dcg_score([1, 3, 2], [0, 2, 1]) == dcg_from_ranking([1, 3, 2], [1, 2, 0])\n",
    "    assert ndcg_score([1, 3, 2], [2, 1, 0]) == ndcg_from_ranking([1, 3, 2], [0, 1, 2])\n",
    "\n",
    "    assert dcg_score([5, 3, 2], [2, 1, 0], k=2) == dcg_from_ranking([5, 3, 2], [0, 1])\n",
    "    assert dcg_score([1, 3, 2], [2, 1, 0], k=2) == dcg_from_ranking([1, 3, 2], [0, 1])\n",
    "    assert dcg_score([1, 3, 2], [0, 2, 1], k=2) == dcg_from_ranking([1, 3, 2], [1, 2])\n",
    "    assert ndcg_score([1, 3, 2], [2, 1, 0], k=2) == \\\n",
    "            ndcg_from_ranking([1, 3, 2], [0, 1])\n",
    "\n",
    "    # Precision\n",
    "    assert ranking_precision_score([1, 1, 0], [3, 2, 1], k=2) == 1.0\n",
    "    assert ranking_precision_score([1, 1, 0], [1, 0, 0.5], k=2) == 0.5\n",
    "    assert ranking_precision_score([1, 1, 0], [3, 2, 1], k=3) == \\\n",
    "            ranking_precision_score([1, 1, 0], [1, 0, 0.5], k=3)\n",
    "\n",
    "    # Average precision\n",
    "    from sklearn.metrics import average_precision_score as ap\n",
    "    assert average_precision_score([1, 1, 0], [3, 2, 1]) == ap([1, 1, 0], [3, 2, 1])\n",
    "    assert average_precision_score([1, 1, 0], [3, 1, 0]) == ap([1, 1, 0], [3, 1, 0])"
   ]
  }
 ],
 "metadata": {
  "kernelspec": {
   "display_name": "Python 2",
   "language": "python",
   "name": "python2"
  },
  "language_info": {
   "codemirror_mode": {
    "name": "ipython",
    "version": 2
   },
   "file_extension": ".py",
   "mimetype": "text/x-python",
   "name": "python",
   "nbconvert_exporter": "python",
   "pygments_lexer": "ipython2",
   "version": "2.7.10"
  }
 },
 "nbformat": 4,
 "nbformat_minor": 0
}
