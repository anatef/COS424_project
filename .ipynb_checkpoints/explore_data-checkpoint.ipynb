{
 "cells": [
  {
   "cell_type": "code",
   "execution_count": 62,
   "metadata": {
    "collapsed": false
   },
   "outputs": [
    {
     "data": {
      "text/html": [
       "<style>.container { width:100% !important; }</style>"
      ],
      "text/plain": [
       "<IPython.core.display.HTML object>"
      ]
     },
     "execution_count": 62,
     "metadata": {},
     "output_type": "execute_result"
    }
   ],
   "source": [
    "%matplotlib inline\n",
    "\n",
    "import numpy as np\n",
    "import pandas as pd\n",
    "import pickle\n",
    "import matplotlib.pyplot as plt\n",
    "\n",
    "#Fit the code to the screen\n",
    "from IPython.core.display import HTML\n",
    "HTML(\"<style>.container { width:100% !important; }</style>\")"
   ]
  },
  {
   "cell_type": "code",
   "execution_count": 28,
   "metadata": {
    "collapsed": true
   },
   "outputs": [],
   "source": [
    "#Reading the movies data\n",
    "my_path = !pwd\n",
    "movies_filename = \"/ml-20/movies.csv\"\n",
    "dfmovies = pd.read_csv(my_path[0]+movies_filename, index_col=None, sep=',')"
   ]
  },
  {
   "cell_type": "code",
   "execution_count": 29,
   "metadata": {
    "collapsed": false
   },
   "outputs": [],
   "source": [
    "#Extract the year from the title\n",
    "dfmovies[\"year\"] = dfmovies['title'].apply(lambda x: x[x.rfind(\"(\")+1:x.rfind(\")\")])\n",
    "dfmovies[\"name\"] = dfmovies['title'].apply(lambda x: x[:x.rfind(\"(\")-1])\n",
    "del dfmovies['title']\n",
    "#Get the columns to the original order\n",
    "cols = dfmovies.columns.tolist()\n",
    "cols = cols[:1] + cols[-1:] + cols[-2:-1] + cols[1:2]\n",
    "dfmovies = dfmovies[cols]"
   ]
  },
  {
   "cell_type": "code",
   "execution_count": 31,
   "metadata": {
    "collapsed": true
   },
   "outputs": [],
   "source": [
    "#Reading the ratings data\n",
    "ratings_filename = \"/ml-20/ratings.csv\"\n",
    "dfratings = pd.read_csv(my_path[0]+ratings_filename, index_col=None, sep=',')"
   ]
  },
  {
   "cell_type": "code",
   "execution_count": 48,
   "metadata": {
    "collapsed": false
   },
   "outputs": [],
   "source": [
    "#Check how many movies have enough ratings\n",
    "ratings_num = []\n",
    "movie_ids = (dfratings[\"movieId\"]).unique()\n",
    "for movie in movie_ids:\n",
    "    ratings_num.append(dfratings[dfratings[\"movieId\"] == movie].shape[0])"
   ]
  },
  {
   "cell_type": "code",
   "execution_count": 59,
   "metadata": {
    "collapsed": false
   },
   "outputs": [],
   "source": [
    "#Create df of movies ids and ratings count\n",
    "ratings_cnt = pd.DataFrame([movie_ids, ratings_num])\n",
    "ratings_cnt = ratings_cnt.transpose()\n",
    "ratings_cnt.columns = [\"movieId\", \"ratingsCount\"]"
   ]
  },
  {
   "cell_type": "code",
   "execution_count": 61,
   "metadata": {
    "collapsed": false
   },
   "outputs": [],
   "source": [
    "with open(my_path[0]+'/explore/ratings_cnt.pik', 'wb') as handle:\n",
    "    pickle.dump(ratings_cnt, handle, protocol=pickle.HIGHEST_PROTOCOL)"
   ]
  },
  {
   "cell_type": "code",
   "execution_count": 69,
   "metadata": {
    "collapsed": false
   },
   "outputs": [
    {
     "data": {
      "image/png": "[encoded data removed]",
      "text/plain": [
       "<matplotlib.figure.Figure at 0x7f0aadfbee50>"
      ]
     },
     "metadata": {},
     "output_type": "display_data"
    }
   ],
   "source": [
    "(n, bins, patches) = plt.hist(ratings_cnt[\"ratingsCount\"], bins=np.arange(1,1000, 100))\n",
    "plt.show()"
   ]
  },
  {
   "cell_type": "code",
   "execution_count": 70,
   "metadata": {
    "collapsed": false
   },
   "outputs": [
    {
     "data": {
      "text/plain": [
       "count    26744.000000\n",
       "mean       747.841123\n",
       "std       3085.818268\n",
       "min          1.000000\n",
       "25%          3.000000\n",
       "50%         18.000000\n",
       "75%        205.000000\n",
       "max      67310.000000\n",
       "Name: ratingsCount, dtype: float64"
      ]
     },
     "execution_count": 70,
     "metadata": {},
     "output_type": "execute_result"
    }
   ],
   "source": [
    "ratings_cnt[\"ratingsCount\"].describe()"
   ]
  },
  {
   "cell_type": "code",
   "execution_count": null,
   "metadata": {
    "collapsed": true
   },
   "outputs": [],
   "source": []
  }
 ],
 "metadata": {
  "kernelspec": {
   "display_name": "Python 2",
   "language": "python",
   "name": "python2"
  },
  "language_info": {
   "codemirror_mode": {
    "name": "ipython",
    "version": 2
   },
   "file_extension": ".py",
   "mimetype": "text/x-python",
   "name": "python",
   "nbconvert_exporter": "python",
   "pygments_lexer": "ipython2",
   "version": "2.7.10"
  }
 },
 "nbformat": 4,
 "nbformat_minor": 0
}
