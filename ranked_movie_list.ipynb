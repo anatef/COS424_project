{
 "cells": [
  {
   "cell_type": "code",
   "execution_count": 200,
   "metadata": {
    "collapsed": false
   },
   "outputs": [
    {
     "data": {
      "text/html": [
       "<style>.container { width:100% !important; }</style>"
      ],
      "text/plain": [
       "<IPython.core.display.HTML object>"
      ]
     },
     "execution_count": 200,
     "metadata": {},
     "output_type": "execute_result"
    }
   ],
   "source": [
    "%matplotlib inline\n",
    "\n",
    "import numpy as np\n",
    "import pandas as pd\n",
    "import pickle\n",
    "import matplotlib.pyplot as plt\n",
    "import random as random\n",
    "from sklearn.cluster import k_means\n",
    "from sklearn.metrics import mean_squared_error,r2_score\n",
    "import statsmodels.api as sm\n",
    "from sklearn import cross_validation\n",
    "\n",
    "#Fit the code to the screen\n",
    "from IPython.core.display import HTML\n",
    "HTML(\"<style>.container { width:100% !important; }</style>\")"
   ]
  },
  {
   "cell_type": "code",
   "execution_count": 2,
   "metadata": {
    "collapsed": true
   },
   "outputs": [],
   "source": [
    "my_path = !pwd\n",
    "with open(my_path[0]+'/features/user_features_advanced.pik', 'rb') as handle:\n",
    "    user_features = pickle.load(handle)\n",
    "with open(my_path[0]+'/features/movie_features.pik', 'rb') as handle:\n",
    "    movies_features = pickle.load(handle)"
   ]
  },
  {
   "cell_type": "code",
   "execution_count": 18,
   "metadata": {
    "collapsed": false
   },
   "outputs": [],
   "source": [
    "user_features_for_cluser = user_features.copy(deep=True)\n",
    "#UserId is not an informative feature\n",
    "del user_features_for_cluser[\"userId\"]\n",
    "#Binarizing the gender feature (M=1, F=0)\n",
    "user_features_for_cluser[\"gender\"] = user_features_for_cluser['gender'].apply(lambda x: 1 if (x==\"M\") else 0)"
   ]
  },
  {
   "cell_type": "code",
   "execution_count": 5,
   "metadata": {
    "collapsed": false
   },
   "outputs": [
    {
     "name": "stderr",
     "output_type": "stream",
     "text": [
      "/home/anat/anaconda2/lib/python2.7/site-packages/ipykernel/__main__.py:3: ParserWarning: Falling back to the 'python' engine because the 'c' engine does not support regex separators; you can avoid this warning by specifying engine='python'.\n",
      "  app.launch_new_instance()\n"
     ]
    }
   ],
   "source": [
    "#Reading the ratings data\n",
    "ratings_filename = \"/ml-1m/ratings.dat\"\n",
    "dfratings = pd.read_csv(my_path[0]+ratings_filename, index_col=None, sep='::', header=None)\n",
    "dfratings.columns = [\"userId\", \"movieId\", \"rating\", \"timestamp\"]"
   ]
  },
  {
   "cell_type": "markdown",
   "metadata": {},
   "source": [
    "## Users clustering"
   ]
  },
  {
   "cell_type": "code",
   "execution_count": 29,
   "metadata": {
    "collapsed": false
   },
   "outputs": [],
   "source": [
    "#Create 1000 clusters using k-means and addrs as feature\n",
    "users_100_kmeans = k_means(user_features_for_cluser, 100, n_jobs=-1)\n",
    "with open(my_path[0]+'/clustering/users_100_kmeans.pik', 'wb') as handle:\n",
    "    pickle.dump(users_100_kmeans, handle, protocol=pickle.HIGHEST_PROTOCOL)"
   ]
  },
  {
   "cell_type": "code",
   "execution_count": 44,
   "metadata": {
    "collapsed": false
   },
   "outputs": [],
   "source": [
    "users_50_kmeans = k_means(user_features_for_cluser, 50, n_jobs=-1)\n",
    "with open(my_path[0]+'/clustering/users_100_kmeans.pik', 'wb') as handle:\n",
    "    pickle.dump(users_50_kmeans, handle, protocol=pickle.HIGHEST_PROTOCOL)"
   ]
  },
  {
   "cell_type": "code",
   "execution_count": 60,
   "metadata": {
    "collapsed": true
   },
   "outputs": [],
   "source": [
    "#For example, find all users in the cluster of user 1:\n",
    "user_cluster = users_50_kmeans[1][1]\n",
    "cluster_indices = (np.where(users_50_kmeans[1]==user_cluster))[0]"
   ]
  },
  {
   "cell_type": "code",
   "execution_count": 127,
   "metadata": {
    "collapsed": false
   },
   "outputs": [],
   "source": [
    "N = dfratings.shep[0]"
   ]
  },
  {
   "cell_type": "code",
   "execution_count": 208,
   "metadata": {
    "collapsed": true
   },
   "outputs": [],
   "source": [
    "predicted_movieIds = (user_ratings[\"movieId\"])[user_ratings_test_indices]\n",
    "real_ratings = (user_ratings[\"rating\"])[user_ratings_test_indices]"
   ]
  },
  {
   "cell_type": "markdown",
   "metadata": {},
   "source": [
    "### Predict using the user's cluster ratings"
   ]
  },
  {
   "cell_type": "code",
   "execution_count": 235,
   "metadata": {
    "collapsed": false
   },
   "outputs": [],
   "source": [
    "#Order the movie ids according to their ratings, from highest to lowest rating\n",
    "def order_by_rating(movie_ids, ratings):\n",
    "    movies_ar = np.array(movie_ids)\n",
    "    ratings_ar = np.array(ratings)\n",
    "    inds = ratings_ar.argsort()\n",
    "    sorted_movie_ids = movies_ar[inds]\n",
    "    de_sorted_movie_ids = np.fliplr([sorted_movie_ids])[0]\n",
    "    \n",
    "    return de_sorted_movie_ids"
   ]
  },
  {
   "cell_type": "code",
   "execution_count": 154,
   "metadata": {
    "collapsed": true
   },
   "outputs": [],
   "source": [
    "#Retrurn the average rating of movie_id by the group users_id\n",
    "def avg_movie_rating(users_ids, movie_id):\n",
    "    ratings_sum = 0\n",
    "    ratings_num = 0\n",
    "    for userId in users_ids:\n",
    "        user_ratings = dfratings[dfratings[\"userId\"] == userId]\n",
    "        movie_rating = user_ratings[user_ratings[\"movieId\"] == movie_id][\"rating\"]\n",
    "        if (len(movie_rating) > 0):\n",
    "            score = movie_rating.item()\n",
    "            ratings_sum += score\n",
    "            ratings_num += 1,\n",
    "    \n",
    "    #Calculate the average\n",
    "    if (ratings_num > 0):\n",
    "        ratings_avg = ratings_sum/float(ratings_num)\n",
    "    else:\n",
    "        ratings_avg = 0\n",
    "    return ratings_avg"
   ]
  },
  {
   "cell_type": "code",
   "execution_count": 301,
   "metadata": {
    "collapsed": true
   },
   "outputs": [],
   "source": [
    "tested_userIds = [457, 2768, 1980, 402, 4126, 3418, 1112, 3119, 1737, 1322]"
   ]
  },
  {
   "cell_type": "code",
   "execution_count": 291,
   "metadata": {
    "collapsed": false
   },
   "outputs": [
    {
     "name": "stdout",
     "output_type": "stream",
     "text": [
      "Finished user: 457\n",
      "Finished user: 2768\n",
      "Finished user: 1980\n",
      "Finished user: 402\n",
      "Finished user: 4126\n",
      "Finished user: 3418\n",
      "Finished user: 1112\n",
      "Finished user: 3119\n",
      "Finished user: 1737\n",
      "Finished user: 1322\n"
     ]
    }
   ],
   "source": [
    "#For each user, predict for random 10% of its rated movies\n",
    "random_seed = 42\n",
    "ndcg_all_users_k5 = []\n",
    "ndcg_all_users_k10 = []\n",
    "ndcg_all_users_k15 = []\n",
    "ndcg_all_users_k20 = []\n",
    "for tested_userId in tested_userIds:\n",
    "    #Get the ratings for that user\n",
    "    user_ratings = dfratings[dfratings[\"userId\"] == tested_userId]\n",
    "    user_ratings.reset_index(inplace=True)\n",
    "    \n",
    "    #Choose randomly 10% of the ratings\n",
    "    user_ratings_shuffle_indices = cross_validation.ShuffleSplit(len(user_ratings), n_iter=10, test_size=0.1, random_state=random_seed)\n",
    "    \n",
    "    #Save the ndcg for each 10% reviews\n",
    "    ndcg_user_k5 = []\n",
    "    ndcg_user_k10 = []\n",
    "    ndcg_user_k15 = []\n",
    "    ndcg_user_k20 = []\n",
    "    \n",
    "    #Predict rating for the chosen 10% ratings\n",
    "    for dummy_train_indices, user_ratings_test_indices in user_ratings_shuffle_indices:\n",
    "       \n",
    "        #Get the 10% movie ids\n",
    "        predicted_movieIds = (user_ratings[\"movieId\"])[user_ratings_test_indices]\n",
    "        real_ratings = (user_ratings[\"rating\"])[user_ratings_test_indices]\n",
    "        #real_order = order_by_rating(predicted_movieIds, real_ratings)\n",
    "        \n",
    "        #predict rating for (userId, movieId) using cluster average and user effect\n",
    "        pred_avg_effect = []\n",
    "        for movieId in predicted_movieIds:\n",
    "            user_cluster = users_50_kmeans[1][userId-1] #the index in cluster is 1 decrement from the id\n",
    "            cluster_indices = ((np.where(users_50_kmeans[1]==user_cluster))[0]).tolist()\n",
    "            cluster_user_ids = [i+1 for i in cluster_indices]\n",
    "            cluster_user_ids.remove(userId)\n",
    "            \n",
    "            #Get the average rating for the other cluster members\n",
    "            cluster_avg_rating = avg_movie_rating(cluster_user_ids, movieId)\n",
    "            \n",
    "            #If no one in the cluster have seen the movie\n",
    "            if (cluster_avg_rating == 0):\n",
    "                cluster_avg_rating = movies_features[movies_features[\"movieId\"] == movieId][\"avg_rate\"].item()\n",
    "            \n",
    "            #Adding the user effect to the average\n",
    "            user_effect = user_features[user_features[\"userId\"] == userId][\"avg_score_diff\"].item()\n",
    "            pred_rating = cluster_avg_rating + user_effect\n",
    "            if (pred_rating > 5):\n",
    "                pred_rating = 5\n",
    "            if (pred_rating < 0):\n",
    "                pred_rating = 0\n",
    "                \n",
    "            #Adding to ratings_results\n",
    "            pred_avg_effect.append(pred_rating)\n",
    "            \n",
    "        #NDCG calculations\n",
    "        if (len(real_ratings) >= 5):\n",
    "            avg_effect_ndcg_k5 = ndcg_score(real_ratings, pred_avg_effect, k=5)\n",
    "            ndcg_user_k5.append(avg_effect_ndcg_k5)\n",
    "        else:\n",
    "            ndcg_user_k5.append(None)\n",
    "        \n",
    "        if (len(real_ratings) >= 10):\n",
    "            avg_effect_ndcg_k10 = ndcg_score(real_ratings, pred_avg_effect, k=10)\n",
    "            ndcg_user_k10.append(avg_effect_ndcg_k10)\n",
    "        else:\n",
    "            ndcg_user_k10.append(None)\n",
    "        \n",
    "        if (len(real_ratings) >= 15):\n",
    "            avg_effect_ndcg_k15 = ndcg_score(real_ratings, pred_avg_effect, k=15)\n",
    "            ndcg_user_k15.append(avg_effect_ndcg_k15)\n",
    "        else:\n",
    "            ndcg_user_k15.append(None)\n",
    "            \n",
    "        if (len(real_ratings) >= 20):\n",
    "            avg_effect_ndcg_k20 = ndcg_score(real_ratings, pred_avg_effect, k=20)\n",
    "            ndcg_user_k20.append(avg_effect_ndcg_k20)\n",
    "        else:\n",
    "            ndcg_user_k20.append(None)\n",
    "            \n",
    "    \n",
    "    #Add all the user ndcg scores to the big arrays\n",
    "    ndcg_all_users_k5.append(ndcg_user_k5)\n",
    "    ndcg_all_users_k10.append(ndcg_user_k10)\n",
    "    ndcg_all_users_k15.append(ndcg_user_k15)\n",
    "    ndcg_all_users_k20.append(ndcg_user_k20)\n",
    "    \n",
    "    print \"Finished user: \"+str(tested_userId)\n",
    "    \n",
    "        #Ordering 10% movies using the predicted ranking\n",
    "        #avg_effect_order = order_by_rating(predicted_movieIds, pred_avg_effect)\n",
    "        #size = len(predicted_movieIds)\n",
    "        #avg_dcg = dcg_score(real_order, avg_order k=size)\n",
    "        #avg_effect_dcg = dcg_score(real_order, avg_effect_order k=size)"
   ]
  },
  {
   "cell_type": "code",
   "execution_count": 297,
   "metadata": {
    "collapsed": false
   },
   "outputs": [],
   "source": [
    "with open(my_path[0]+'/clustering/ndcg_all_users_k5.pik', 'wb') as handle:\n",
    "    pickle.dump(ndcg_all_users_k5, handle, protocol=pickle.HIGHEST_PROTOCOL)\n",
    "with open(my_path[0]+'/clustering/ndcg_all_users_k10.pik', 'wb') as handle:\n",
    "    pickle.dump(ndcg_all_users_k10, handle, protocol=pickle.HIGHEST_PROTOCOL)\n",
    "with open(my_path[0]+'/clustering/ndcg_all_users_k15.pik', 'wb') as handle:\n",
    "    pickle.dump(ndcg_all_users_k15, handle, protocol=pickle.HIGHEST_PROTOCOL)\n",
    "with open(my_path[0]+'/clustering/ndcg_all_users_k20.pik', 'wb') as handle:\n",
    "    pickle.dump(ndcg_all_users_k20, handle, protocol=pickle.HIGHEST_PROTOCOL)"
   ]
  },
  {
   "cell_type": "code",
   "execution_count": 318,
   "metadata": {
    "collapsed": false
   },
   "outputs": [],
   "source": [
    "ndcg_df_k5 = pd.DataFrame([ndcg_all_users_k5[i] for i in range(10)])\n",
    "ndcg_df_k5 = ndcg_df_k5.transpose()\n",
    "ndcg_df_k5.columns = tested_userIds"
   ]
  },
  {
   "cell_type": "code",
   "execution_count": 319,
   "metadata": {
    "collapsed": false
   },
   "outputs": [
    {
     "data": {
      "text/html": [
       "<div>\n",
       "<table border=\"1\" class=\"dataframe\">\n",
       "  <thead>\n",
       "    <tr style=\"text-align: right;\">\n",
       "      <th></th>\n",
       "      <th>457</th>\n",
       "      <th>2768</th>\n",
       "      <th>1980</th>\n",
       "      <th>402</th>\n",
       "      <th>4126</th>\n",
       "      <th>3418</th>\n",
       "      <th>1112</th>\n",
       "      <th>3119</th>\n",
       "      <th>1737</th>\n",
       "      <th>1322</th>\n",
       "    </tr>\n",
       "  </thead>\n",
       "  <tbody>\n",
       "    <tr>\n",
       "      <th>0</th>\n",
       "      <td>0.825251</td>\n",
       "      <td>0.932895</td>\n",
       "      <td>0.757231</td>\n",
       "      <td>0.693572</td>\n",
       "      <td>0.321317</td>\n",
       "      <td>0.824950</td>\n",
       "      <td>0.924610</td>\n",
       "      <td>0.895036</td>\n",
       "      <td>0.504039</td>\n",
       "      <td>0.912475</td>\n",
       "    </tr>\n",
       "    <tr>\n",
       "      <th>1</th>\n",
       "      <td>0.954437</td>\n",
       "      <td>0.954437</td>\n",
       "      <td>0.711864</td>\n",
       "      <td>0.746447</td>\n",
       "      <td>0.416514</td>\n",
       "      <td>0.484232</td>\n",
       "      <td>0.932281</td>\n",
       "      <td>0.951005</td>\n",
       "      <td>0.624339</td>\n",
       "      <td>0.787977</td>\n",
       "    </tr>\n",
       "    <tr>\n",
       "      <th>2</th>\n",
       "      <td>0.856447</td>\n",
       "      <td>0.856948</td>\n",
       "      <td>0.714505</td>\n",
       "      <td>0.637485</td>\n",
       "      <td>0.346673</td>\n",
       "      <td>0.703045</td>\n",
       "      <td>1.000000</td>\n",
       "      <td>0.645251</td>\n",
       "      <td>0.621226</td>\n",
       "      <td>0.646786</td>\n",
       "    </tr>\n",
       "    <tr>\n",
       "      <th>3</th>\n",
       "      <td>0.897857</td>\n",
       "      <td>1.000000</td>\n",
       "      <td>0.688945</td>\n",
       "      <td>0.709696</td>\n",
       "      <td>0.583329</td>\n",
       "      <td>0.712823</td>\n",
       "      <td>1.000000</td>\n",
       "      <td>0.584912</td>\n",
       "      <td>0.314888</td>\n",
       "      <td>0.819196</td>\n",
       "    </tr>\n",
       "    <tr>\n",
       "      <th>4</th>\n",
       "      <td>0.882815</td>\n",
       "      <td>0.970210</td>\n",
       "      <td>0.539455</td>\n",
       "      <td>0.682033</td>\n",
       "      <td>0.336091</td>\n",
       "      <td>0.504558</td>\n",
       "      <td>0.757231</td>\n",
       "      <td>0.933986</td>\n",
       "      <td>0.757231</td>\n",
       "      <td>0.889555</td>\n",
       "    </tr>\n",
       "    <tr>\n",
       "      <th>5</th>\n",
       "      <td>0.856447</td>\n",
       "      <td>0.857455</td>\n",
       "      <td>0.737424</td>\n",
       "      <td>0.658921</td>\n",
       "      <td>0.270416</td>\n",
       "      <td>0.607716</td>\n",
       "      <td>1.000000</td>\n",
       "      <td>0.618681</td>\n",
       "      <td>0.714505</td>\n",
       "      <td>0.691744</td>\n",
       "    </tr>\n",
       "    <tr>\n",
       "      <th>6</th>\n",
       "      <td>0.658921</td>\n",
       "      <td>0.856948</td>\n",
       "      <td>0.496367</td>\n",
       "      <td>0.643710</td>\n",
       "      <td>0.252550</td>\n",
       "      <td>0.727356</td>\n",
       "      <td>1.000000</td>\n",
       "      <td>0.840607</td>\n",
       "      <td>0.440108</td>\n",
       "      <td>0.824950</td>\n",
       "    </tr>\n",
       "    <tr>\n",
       "      <th>7</th>\n",
       "      <td>0.837085</td>\n",
       "      <td>0.886237</td>\n",
       "      <td>0.679089</td>\n",
       "      <td>0.564682</td>\n",
       "      <td>0.571758</td>\n",
       "      <td>0.767134</td>\n",
       "      <td>1.000000</td>\n",
       "      <td>0.955991</td>\n",
       "      <td>0.691224</td>\n",
       "      <td>0.725603</td>\n",
       "    </tr>\n",
       "    <tr>\n",
       "      <th>8</th>\n",
       "      <td>0.837085</td>\n",
       "      <td>1.000000</td>\n",
       "      <td>0.639115</td>\n",
       "      <td>0.718351</td>\n",
       "      <td>0.363005</td>\n",
       "      <td>0.844756</td>\n",
       "      <td>0.837085</td>\n",
       "      <td>0.419792</td>\n",
       "      <td>0.515498</td>\n",
       "      <td>0.714505</td>\n",
       "    </tr>\n",
       "    <tr>\n",
       "      <th>9</th>\n",
       "      <td>0.769366</td>\n",
       "      <td>0.868764</td>\n",
       "      <td>1.000000</td>\n",
       "      <td>0.559261</td>\n",
       "      <td>0.351027</td>\n",
       "      <td>0.450727</td>\n",
       "      <td>0.800993</td>\n",
       "      <td>0.543600</td>\n",
       "      <td>0.429168</td>\n",
       "      <td>0.868712</td>\n",
       "    </tr>\n",
       "  </tbody>\n",
       "</table>\n",
       "</div>"
      ],
      "text/plain": [
       "       457       2768      1980      402       4126      3418      1112  \\\n",
       "0  0.825251  0.932895  0.757231  0.693572  0.321317  0.824950  0.924610   \n",
       "1  0.954437  0.954437  0.711864  0.746447  0.416514  0.484232  0.932281   \n",
       "2  0.856447  0.856948  0.714505  0.637485  0.346673  0.703045  1.000000   \n",
       "3  0.897857  1.000000  0.688945  0.709696  0.583329  0.712823  1.000000   \n",
       "4  0.882815  0.970210  0.539455  0.682033  0.336091  0.504558  0.757231   \n",
       "5  0.856447  0.857455  0.737424  0.658921  0.270416  0.607716  1.000000   \n",
       "6  0.658921  0.856948  0.496367  0.643710  0.252550  0.727356  1.000000   \n",
       "7  0.837085  0.886237  0.679089  0.564682  0.571758  0.767134  1.000000   \n",
       "8  0.837085  1.000000  0.639115  0.718351  0.363005  0.844756  0.837085   \n",
       "9  0.769366  0.868764  1.000000  0.559261  0.351027  0.450727  0.800993   \n",
       "\n",
       "       3119      1737      1322  \n",
       "0  0.895036  0.504039  0.912475  \n",
       "1  0.951005  0.624339  0.787977  \n",
       "2  0.645251  0.621226  0.646786  \n",
       "3  0.584912  0.314888  0.819196  \n",
       "4  0.933986  0.757231  0.889555  \n",
       "5  0.618681  0.714505  0.691744  \n",
       "6  0.840607  0.440108  0.824950  \n",
       "7  0.955991  0.691224  0.725603  \n",
       "8  0.419792  0.515498  0.714505  \n",
       "9  0.543600  0.429168  0.868712  "
      ]
     },
     "execution_count": 319,
     "metadata": {},
     "output_type": "execute_result"
    }
   ],
   "source": [
    "ndcg_df_k5"
   ]
  },
  {
   "cell_type": "code",
   "execution_count": 372,
   "metadata": {
    "collapsed": false
   },
   "outputs": [],
   "source": [
    "#Calculating the average for each user\n",
    "avg_k5 = [np.average(ndcg_all_users_k5[i]) for i in range(10)]\n",
    "avg_k10 = []\n",
    "avg_k15 = []\n",
    "avg_k20 = []\n",
    "for i in range(10):\n",
    "    if (ndcg_all_users_k10[i][0] == None):\n",
    "        avg_k10.append(0)\n",
    "    else:\n",
    "        avg_k10.append(np.average(ndcg_all_users_k10[i]))\n",
    "        \n",
    "    if (ndcg_all_users_k15[i][0] == None):\n",
    "        avg_k15.append(0)\n",
    "    else:\n",
    "        avg_k15.append(np.average(ndcg_all_users_k15[i]))\n",
    "        \n",
    "    if (ndcg_all_users_k20[i][0] == None):\n",
    "        avg_k20.append(0)\n",
    "    else:\n",
    "        avg_k20.append(np.average(ndcg_all_users_k20[i]))"
   ]
  },
  {
   "cell_type": "code",
   "execution_count": 373,
   "metadata": {
    "collapsed": true
   },
   "outputs": [],
   "source": [
    "#Calculating the std for each user\n",
    "std_k5 = [np.std(ndcg_all_users_k5[i]) for i in range(10)]\n",
    "std_k10 = []\n",
    "std_k15 = []\n",
    "std_k20 = []\n",
    "for i in range(10):\n",
    "    if (ndcg_all_users_k10[i][0] == None):\n",
    "        std_k10.append(0)\n",
    "    else:\n",
    "        std_k10.append(np.std(ndcg_all_users_k10[i]))\n",
    "        \n",
    "    if (ndcg_all_users_k15[i][0] == None):\n",
    "        std_k15.append(0)\n",
    "    else:\n",
    "        std_k15.append(np.std(ndcg_all_users_k15[i]))\n",
    "        \n",
    "    if (ndcg_all_users_k20[i][0] == None):\n",
    "        std_k20.append(0)\n",
    "    else:\n",
    "        std_k20.append(np.std(ndcg_all_users_k20[i]))"
   ]
  },
  {
   "cell_type": "code",
   "execution_count": 364,
   "metadata": {
    "collapsed": false
   },
   "outputs": [],
   "source": [
    "#A dataframe for all the average scores\n",
    "ndcg_avg_df = pd.DataFrame([avg_k5, avg_k10, avg_k15, avg_k20])\n",
    "ndcg_avg_df.columns = [\"u457\", \"u2768\", \"u1980\", \"u402\", \"u4126\", \"u3418\", \"u1112\", \"u3119\", \"1737\", \"u1322\"]\n",
    "ndcg_avg_df.index = [5, 10, 15, 20]"
   ]
  },
  {
   "cell_type": "code",
   "execution_count": 365,
   "metadata": {
    "collapsed": false
   },
   "outputs": [
    {
     "data": {
      "text/html": [
       "<div>\n",
       "<table border=\"1\" class=\"dataframe\">\n",
       "  <thead>\n",
       "    <tr style=\"text-align: right;\">\n",
       "      <th></th>\n",
       "      <th>u457</th>\n",
       "      <th>u2768</th>\n",
       "      <th>u1980</th>\n",
       "      <th>u402</th>\n",
       "      <th>u4126</th>\n",
       "      <th>u3418</th>\n",
       "      <th>u1112</th>\n",
       "      <th>u3119</th>\n",
       "      <th>1737</th>\n",
       "      <th>u1322</th>\n",
       "    </tr>\n",
       "  </thead>\n",
       "  <tbody>\n",
       "    <tr>\n",
       "      <th>5</th>\n",
       "      <td>0.837571</td>\n",
       "      <td>0.91839</td>\n",
       "      <td>0.696400</td>\n",
       "      <td>0.661416</td>\n",
       "      <td>0.381268</td>\n",
       "      <td>0.662730</td>\n",
       "      <td>0.925220</td>\n",
       "      <td>0.738886</td>\n",
       "      <td>0.561223</td>\n",
       "      <td>0.788150</td>\n",
       "    </tr>\n",
       "    <tr>\n",
       "      <th>10</th>\n",
       "      <td>0.894140</td>\n",
       "      <td>NaN</td>\n",
       "      <td>0.752077</td>\n",
       "      <td>0.777461</td>\n",
       "      <td>0.485098</td>\n",
       "      <td>0.668665</td>\n",
       "      <td>0.854335</td>\n",
       "      <td>NaN</td>\n",
       "      <td>0.572676</td>\n",
       "      <td>0.749947</td>\n",
       "    </tr>\n",
       "    <tr>\n",
       "      <th>15</th>\n",
       "      <td>0.916409</td>\n",
       "      <td>NaN</td>\n",
       "      <td>0.743356</td>\n",
       "      <td>0.802298</td>\n",
       "      <td>0.544368</td>\n",
       "      <td>0.780499</td>\n",
       "      <td>0.820288</td>\n",
       "      <td>NaN</td>\n",
       "      <td>0.639588</td>\n",
       "      <td>0.746589</td>\n",
       "    </tr>\n",
       "    <tr>\n",
       "      <th>20</th>\n",
       "      <td>0.924941</td>\n",
       "      <td>NaN</td>\n",
       "      <td>0.731621</td>\n",
       "      <td>0.844228</td>\n",
       "      <td>0.608833</td>\n",
       "      <td>0.850528</td>\n",
       "      <td>0.843429</td>\n",
       "      <td>NaN</td>\n",
       "      <td>0.683317</td>\n",
       "      <td>0.790532</td>\n",
       "    </tr>\n",
       "  </tbody>\n",
       "</table>\n",
       "</div>"
      ],
      "text/plain": [
       "        u457    u2768     u1980      u402     u4126     u3418     u1112  \\\n",
       "5   0.837571  0.91839  0.696400  0.661416  0.381268  0.662730  0.925220   \n",
       "10  0.894140      NaN  0.752077  0.777461  0.485098  0.668665  0.854335   \n",
       "15  0.916409      NaN  0.743356  0.802298  0.544368  0.780499  0.820288   \n",
       "20  0.924941      NaN  0.731621  0.844228  0.608833  0.850528  0.843429   \n",
       "\n",
       "       u3119      1737     u1322  \n",
       "5   0.738886  0.561223  0.788150  \n",
       "10       NaN  0.572676  0.749947  \n",
       "15       NaN  0.639588  0.746589  \n",
       "20       NaN  0.683317  0.790532  "
      ]
     },
     "execution_count": 365,
     "metadata": {},
     "output_type": "execute_result"
    }
   ],
   "source": [
    "ndcg_avg_df"
   ]
  },
  {
   "cell_type": "code",
   "execution_count": 345,
   "metadata": {
    "collapsed": true
   },
   "outputs": [],
   "source": [
    "#Some users statistics\n",
    "ratings_num = []\n",
    "ratings_avg = []\n",
    "ratings_std = []\n",
    "for userId in tested_userIds:\n",
    "    user_profile = user_features[user_features[\"userId\"] == userId]\n",
    "    ratings_num.append(user_profile[\"rate_num\"].item())\n",
    "    ratings_avg.append(user_profile[\"rate_avg\"].item())\n",
    "    ratings_std.append(user_profile[\"rate_std\"].item())"
   ]
  },
  {
   "cell_type": "code",
   "execution_count": 347,
   "metadata": {
    "collapsed": false
   },
   "outputs": [
    {
     "data": {
      "text/html": [
       "<div>\n",
       "<table border=\"1\" class=\"dataframe\">\n",
       "  <thead>\n",
       "    <tr style=\"text-align: right;\">\n",
       "      <th></th>\n",
       "      <th>457</th>\n",
       "      <th>2768</th>\n",
       "      <th>1980</th>\n",
       "      <th>402</th>\n",
       "      <th>4126</th>\n",
       "      <th>3418</th>\n",
       "      <th>1112</th>\n",
       "      <th>3119</th>\n",
       "      <th>1737</th>\n",
       "      <th>1322</th>\n",
       "    </tr>\n",
       "  </thead>\n",
       "  <tbody>\n",
       "    <tr>\n",
       "      <th>0</th>\n",
       "      <td>237.000000</td>\n",
       "      <td>80.000000</td>\n",
       "      <td>1260.000000</td>\n",
       "      <td>284.000000</td>\n",
       "      <td>358.000000</td>\n",
       "      <td>211.000000</td>\n",
       "      <td>679.000000</td>\n",
       "      <td>90.000000</td>\n",
       "      <td>775.000000</td>\n",
       "      <td>384.000000</td>\n",
       "    </tr>\n",
       "    <tr>\n",
       "      <th>1</th>\n",
       "      <td>3.713080</td>\n",
       "      <td>4.037500</td>\n",
       "      <td>3.482540</td>\n",
       "      <td>3.591549</td>\n",
       "      <td>3.513966</td>\n",
       "      <td>3.791469</td>\n",
       "      <td>3.441826</td>\n",
       "      <td>3.377778</td>\n",
       "      <td>3.410323</td>\n",
       "      <td>4.117188</td>\n",
       "    </tr>\n",
       "    <tr>\n",
       "      <th>2</th>\n",
       "      <td>0.905887</td>\n",
       "      <td>0.797555</td>\n",
       "      <td>1.026094</td>\n",
       "      <td>0.873353</td>\n",
       "      <td>0.902248</td>\n",
       "      <td>1.221499</td>\n",
       "      <td>1.240844</td>\n",
       "      <td>1.269976</td>\n",
       "      <td>0.984733</td>\n",
       "      <td>0.803194</td>\n",
       "    </tr>\n",
       "  </tbody>\n",
       "</table>\n",
       "</div>"
      ],
      "text/plain": [
       "         457        2768         1980        402         4126        3418  \\\n",
       "0  237.000000  80.000000  1260.000000  284.000000  358.000000  211.000000   \n",
       "1    3.713080   4.037500     3.482540    3.591549    3.513966    3.791469   \n",
       "2    0.905887   0.797555     1.026094    0.873353    0.902248    1.221499   \n",
       "\n",
       "         1112       3119        1737        1322  \n",
       "0  679.000000  90.000000  775.000000  384.000000  \n",
       "1    3.441826   3.377778    3.410323    4.117188  \n",
       "2    1.240844   1.269976    0.984733    0.803194  "
      ]
     },
     "execution_count": 347,
     "metadata": {},
     "output_type": "execute_result"
    }
   ],
   "source": [
    "#A dataframe with all the stats\n",
    "stats_df = pd.DataFrame([ratings_num, ratings_avg, ratings_std])\n",
    "stats_df.columns = tested_userIds\n",
    "stats_df"
   ]
  },
  {
   "cell_type": "code",
   "execution_count": 480,
   "metadata": {
    "collapsed": false
   },
   "outputs": [
    {
     "data": {
      "image/png": "[encoded data removed]",
      "text/plain": [
       "<matplotlib.figure.Figure at 0x7fc65d74b3d0>"
      ]
     },
     "metadata": {},
     "output_type": "display_data"
    },
    {
     "data": {
      "text/plain": [
       "<matplotlib.figure.Figure at 0x7fc65d74be10>"
      ]
     },
     "metadata": {},
     "output_type": "display_data"
    }
   ],
   "source": [
    "sort_by_stat(ratings_num, \"ratings number\")\n",
    "plt.savefig(my_path[0]+'/clustering/ndcg_ratings_num.pdf')"
   ]
  },
  {
   "cell_type": "code",
   "execution_count": 477,
   "metadata": {
    "collapsed": false
   },
   "outputs": [],
   "source": [
    "def sort_by_stat(stat_list, x_axis_text):\n",
    "    #Sort everything by stat list\n",
    "    stat_inds = (np.array(stat_list)).argsort()\n",
    "\n",
    "    #Averages\n",
    "    tmp_avg_k5 = np.array(avg_k5)[stat_inds]\n",
    "    sorted_avg_k5 = tmp_avg_k5.tolist()\n",
    "    tmp_avg_k10 = np.array(avg_k10)[stat_inds]\n",
    "    sorted_avg_k10 = tmp_avg_k10.tolist()\n",
    "    tmp_avg_k15 = np.array(avg_k15)[stat_inds]\n",
    "    sorted_avg_k15 = tmp_avg_k15.tolist()\n",
    "    tmp_avg_k20 = np.array(avg_k20)[stat_inds]\n",
    "    sorted_avg_k20 = tmp_avg_k20.tolist()\n",
    "\n",
    "    #stds\n",
    "    tmp_std_k5 = np.array(std_k5)[stat_inds]\n",
    "    sorted_std_k5 = tmp_std_k5.tolist()\n",
    "    tmp_std_k10 = np.array(std_k10)[stat_inds]\n",
    "    sorted_std_k10 = tmp_std_k10.tolist()\n",
    "    tmp_std_k15 = np.array(std_k15)[stat_inds]\n",
    "    sorted_std_k15 = tmp_std_k15.tolist()\n",
    "    tmp_std_k20 = np.array(std_k20)[stat_inds]\n",
    "    sorted_std_k20 = tmp_std_k20.tolist()\n",
    "    \n",
    "    #Sort titles\n",
    "    titles = [\"u457\", \"u2768\", \"u1980\", \"u402\", \"u4126\", \"u3418\", \"u1112\", \"u3119\", \"1737\", \"u1322\"]\n",
    "    tmp_titles = np.array(titles)[stat_inds]\n",
    "    sorted_titles = tmp_titles.tolist()\n",
    "    \n",
    "    #Make plot\n",
    "    ndcg_plt(sorted_avg_k5, sorted_avg_k10, sorted_avg_k15, sorted_avg_k20, sorted_std_k5, sorted_std_k10, sorted_std_k15, sorted_std_k20, sorted_titles, x_axis_text)"
   ]
  },
  {
   "cell_type": "code",
   "execution_count": 461,
   "metadata": {
    "collapsed": false
   },
   "outputs": [
    {
     "data": {
      "text/plain": [
       "[0.83757116223413652,\n",
       " 0.91838955831288405,\n",
       " 0.69639959689723507,\n",
       " 0.66141586289149179,\n",
       " 0.38126784480660431,\n",
       " 0.66272975375606546,\n",
       " 0.92522000546642202,\n",
       " 0.73888598060719624,\n",
       " 0.56122277823250366,\n",
       " 0.78815040367561662]"
      ]
     },
     "execution_count": 461,
     "metadata": {},
     "output_type": "execute_result"
    }
   ],
   "source": [
    "avg_k5"
   ]
  },
  {
   "cell_type": "code",
   "execution_count": 462,
   "metadata": {
    "collapsed": false
   },
   "outputs": [
    {
     "data": {
      "text/plain": [
       "[0.918389558312884,\n",
       " 0.7388859806071962,\n",
       " 0.6627297537560655,\n",
       " 0.8375711622341365,\n",
       " 0.6614158628914918,\n",
       " 0.3812678448066043,\n",
       " 0.7881504036756166,\n",
       " 0.925220005466422,\n",
       " 0.5612227782325037,\n",
       " 0.6963995968972351]"
      ]
     },
     "execution_count": 462,
     "metadata": {},
     "output_type": "execute_result"
    }
   ],
   "source": [
    "sort_by_ratings_num.tolist()"
   ]
  },
  {
   "cell_type": "code",
   "execution_count": null,
   "metadata": {
    "collapsed": true
   },
   "outputs": [],
   "source": [
    "people = numpy.array(people)\n",
    "ages = numpy.array(ages)\n",
    "inds = ages.argsort()\n",
    "sortedPeople = people[inds]"
   ]
  },
  {
   "cell_type": "code",
   "execution_count": 476,
   "metadata": {
    "collapsed": false
   },
   "outputs": [],
   "source": [
    "def ndcg_plt(avg_k5, avg_k10, avg_k15, avg_k20, std_k5, std_k10, std_k15, std_k20, xlables, x_axis_text):\n",
    "    N = 10\n",
    "\n",
    "    ind = np.arange(N)  # the x locations for the groups\n",
    "    width = 0.20       # the width of the bars\n",
    "\n",
    "    fig, ax = plt.subplots(figsize=(15, 8))\n",
    "    rects1 = ax.bar(ind , avg_k5, width, color='mediumblue', yerr=std_k5, ecolor='firebrick')\n",
    "    rects2 = ax.bar(ind + width, avg_k10, width, color='royalblue', yerr=std_k10, ecolor='firebrick')\n",
    "    rects3 = ax.bar(ind + (2 * width), avg_k15, width, color='cornflowerblue', yerr=std_k15, ecolor='firebrick')\n",
    "    rects4 = ax.bar(ind + (3 * width), avg_k20, width, color='lightskyblue', yerr=std_k20, ecolor='firebrick')\n",
    "\n",
    "    # add some text for labels, title and axes ticks\n",
    "    ax.set_ylabel('NDCG')\n",
    "    ax.set_xlabel('Users sorted by '+x_axis_text)\n",
    "    ax.set_title('Average NDCG@K for representative users')\n",
    "    ax.set_xticks(ind + width)\n",
    "    #ax.set_xticklabels((\"u457\", \"u2768\", \"u1980\", \"u402\", \"u4126\", \"u3418\", \"u1112\", \"u3119\", \"1737\", \"u1322\"))\n",
    "    ax.set_xticklabels(xlables)\n",
    "    ax.set_ylim([0,1.1])\n",
    "\n",
    "    ax.legend((rects1[0], rects2[0], rects3[0], rects4[0]), ('k=5', 'k=10', 'k=15', 'k=20'), bbox_to_anchor=(1.05, 1.05))\n",
    "\n",
    "\n",
    "    def autolabel(rects):\n",
    "        # attach some text labels\n",
    "        for rect in rects:\n",
    "            height = rect.get_height()\n",
    "            if (height > 0):\n",
    "                ax.text(rect.get_x()+ rect.get_width()/2. , 1.05*height, '%.2f' % height, ha='center', va='bottom')\n",
    "\n",
    "    autolabel(rects1)\n",
    "    autolabel(rects2)\n",
    "    autolabel(rects3)\n",
    "    autolabel(rects4)\n",
    "\n",
    "    plt.show()"
   ]
  },
  {
   "cell_type": "code",
   "execution_count": 344,
   "metadata": {
    "collapsed": false
   },
   "outputs": [
    {
     "data": {
      "text/html": [
       "<div>\n",
       "<table border=\"1\" class=\"dataframe\">\n",
       "  <thead>\n",
       "    <tr style=\"text-align: right;\">\n",
       "      <th></th>\n",
       "      <th>userId</th>\n",
       "      <th>gender</th>\n",
       "      <th>age</th>\n",
       "      <th>occupation</th>\n",
       "      <th>Mystery</th>\n",
       "      <th>Sci-Fi</th>\n",
       "      <th>Crime</th>\n",
       "      <th>Drama</th>\n",
       "      <th>Animation</th>\n",
       "      <th>IMAX</th>\n",
       "      <th>...</th>\n",
       "      <th>Musical</th>\n",
       "      <th>Fantasy</th>\n",
       "      <th>Adventure</th>\n",
       "      <th>Children</th>\n",
       "      <th>Thriller</th>\n",
       "      <th>Western</th>\n",
       "      <th>rate_num</th>\n",
       "      <th>rate_avg</th>\n",
       "      <th>rate_std</th>\n",
       "      <th>avg_score_diff</th>\n",
       "    </tr>\n",
       "  </thead>\n",
       "  <tbody>\n",
       "    <tr>\n",
       "      <th>0</th>\n",
       "      <td>1</td>\n",
       "      <td>F</td>\n",
       "      <td>1</td>\n",
       "      <td>10</td>\n",
       "      <td>0</td>\n",
       "      <td>13</td>\n",
       "      <td>8</td>\n",
       "      <td>93</td>\n",
       "      <td>74</td>\n",
       "      <td>0</td>\n",
       "      <td>...</td>\n",
       "      <td>60</td>\n",
       "      <td>12</td>\n",
       "      <td>20</td>\n",
       "      <td>85</td>\n",
       "      <td>11</td>\n",
       "      <td>0</td>\n",
       "      <td>53</td>\n",
       "      <td>4.188679</td>\n",
       "      <td>0.674512</td>\n",
       "      <td>0.266306</td>\n",
       "    </tr>\n",
       "  </tbody>\n",
       "</table>\n",
       "<p>1 rows × 27 columns</p>\n",
       "</div>"
      ],
      "text/plain": [
       "   userId gender  age  occupation  Mystery  Sci-Fi  Crime  Drama  Animation  \\\n",
       "0       1      F    1          10        0      13      8     93         74   \n",
       "\n",
       "   IMAX       ...        Musical  Fantasy  Adventure  Children  Thriller  \\\n",
       "0     0       ...             60       12         20        85        11   \n",
       "\n",
       "   Western  rate_num  rate_avg  rate_std  avg_score_diff  \n",
       "0        0        53  4.188679  0.674512        0.266306  \n",
       "\n",
       "[1 rows x 27 columns]"
      ]
     },
     "execution_count": 344,
     "metadata": {},
     "output_type": "execute_result"
    }
   ],
   "source": [
    "user_features[user_features[\"userId\"] == 1]"
   ]
  },
  {
   "cell_type": "code",
   "execution_count": null,
   "metadata": {
    "collapsed": true
   },
   "outputs": [],
   "source": []
  },
  {
   "cell_type": "code",
   "execution_count": 192,
   "metadata": {
    "collapsed": false
   },
   "outputs": [
    {
     "name": "stdout",
     "output_type": "stream",
     "text": [
      "0.219286245711 1.03202863465\n"
     ]
    }
   ],
   "source": [
    "print r2_score(label, pred_avg_effect), \n",
    "print mean_squared_error(label, pred_avg_effect)"
   ]
  },
  {
   "cell_type": "code",
   "execution_count": 191,
   "metadata": {
    "collapsed": false
   },
   "outputs": [
    {
     "name": "stdout",
     "output_type": "stream",
     "text": [
      "pred_avg_effect: RMSE- 1.01588810144\n",
      "pred_avg_effect: R - 0.495525578846\n",
      "                            OLS Regression Results                            \n",
      "==============================================================================\n",
      "Dep. Variable:                      y   R-squared:                       0.246\n",
      "Model:                            OLS   Adj. R-squared:                  0.245\n",
      "Method:                 Least Squares   F-statistic:                     324.8\n",
      "Date:                Tue, 03 May 2016   Prob (F-statistic):           4.41e-63\n",
      "Time:                        21:12:03   Log-Likelihood:                -995.08\n",
      "No. Observations:                1000   AIC:                             1994.\n",
      "Df Residuals:                     998   BIC:                             2004.\n",
      "Df Model:                           1                                         \n",
      "Covariance Type:            nonrobust                                         \n",
      "==============================================================================\n",
      "                 coef    std err          t      P>|t|      [95.0% Conf. Int.]\n",
      "------------------------------------------------------------------------------\n",
      "const          2.4370      0.067     36.112      0.000         2.305     2.569\n",
      "rating         0.3248      0.018     18.022      0.000         0.289     0.360\n",
      "==============================================================================\n",
      "Omnibus:                       60.575   Durbin-Watson:                   1.953\n",
      "Prob(Omnibus):                  0.000   Jarque-Bera (JB):               82.295\n",
      "Skew:                          -0.525   Prob(JB):                     1.35e-18\n",
      "Kurtosis:                       3.933   Cond. No.                         13.0\n",
      "==============================================================================\n",
      "\n",
      "Warnings:\n",
      "[1] Standard Errors assume that the covariance matrix of the errors is correctly specified.\n"
     ]
    },
    {
     "data": {
      "image/png": "[encoded data removed]",
      "text/plain": [
       "<matplotlib.figure.Figure at 0x7fc65e7fa0d0>"
      ]
     },
     "metadata": {},
     "output_type": "display_data"
    }
   ],
   "source": [
    "name = \"pred_avg_effect\"\n",
    "y_predict = label\n",
    "predictions = pred_avg_effect\n",
    "\n",
    "# fit a linear regression line\n",
    "xs = y_predict\n",
    "ys = predictions\n",
    "results = sm.OLS(ys,sm.add_constant(xs)).fit()\n",
    "# compute root mean squared error\n",
    "mean_sq_error = np.mean((y_predict-predictions)**2)\n",
    "print name + \": RMSE- \" + str(np.sqrt(mean_sq_error))\n",
    "\n",
    "#Compute R\n",
    "r = np.corrcoef(y_predict,predictions)[0][1]\n",
    "print name + \": R - \"+str(r)\n",
    "\n",
    "print results.summary()\n",
    "\n",
    "#plot\n",
    "plt.subplot(2, 1, 1)\n",
    "plt.scatter(xs,ys)\n",
    "plt.plot(xs, xs*results.params[1] + results.params[0],rasterized=True)\n",
    "plt.xlabel('Ground Truth')\n",
    "plt.ylabel('Predictions')\n",
    "plt.title(name + ': Plot of Ground Truth Methylation values vs. Predictions ( Training Data)')\n",
    "plt.subplot(2, 1, 2)\n",
    "hist,bin_edges = np.histogram((y_predict-predictions),bins=100,density=True)\n",
    "plt.title(name + ': Prediction error PDF')\n",
    "plt.xlabel('Error value')\n",
    "plt.ylabel('Probablity Density')    \n",
    "plt.scatter(bin_edges[:-1],hist)\n",
    "plt.xlim(min(bin_edges), max(bin_edges))\n",
    "plt.ylim(min(hist), max(hist))\n",
    "plt.tight_layout()\n",
    "plt.savefig(my_path[0]+\"/\"+name+\"_prediction_plot.png\",dpi=200,bbox_inches='tight')\n",
    "plt.show()"
   ]
  },
  {
   "cell_type": "code",
   "execution_count": 194,
   "metadata": {
    "collapsed": false
   },
   "outputs": [
    {
     "data": {
      "text/plain": [
       "122.92686622450273"
      ]
     },
     "execution_count": 194,
     "metadata": {},
     "output_type": "execute_result"
    }
   ],
   "source": [
    "dcg_score(label, pred_avg_effect)"
   ]
  },
  {
   "cell_type": "code",
   "execution_count": 193,
   "metadata": {
    "collapsed": true
   },
   "outputs": [],
   "source": [
    "# (C) Mathieu Blondel, November 2013\n",
    "# License: BSD 3 clause\n",
    "\n",
    "import numpy as np\n",
    "\n",
    "\n",
    "def ranking_precision_score(y_true, y_score, k=10):\n",
    "    \"\"\"Precision at rank k\n",
    "\n",
    "    Parameters\n",
    "    ----------\n",
    "    y_true : array-like, shape = [n_samples]\n",
    "        Ground truth (true relevance labels).\n",
    "\n",
    "    y_score : array-like, shape = [n_samples]\n",
    "        Predicted scores.\n",
    "\n",
    "    k : int\n",
    "        Rank.\n",
    "\n",
    "    Returns\n",
    "    -------\n",
    "    precision @k : float\n",
    "    \"\"\"\n",
    "    unique_y = np.unique(y_true)\n",
    "\n",
    "    if len(unique_y) > 2:\n",
    "        raise ValueError(\"Only supported for two relevance levels.\")\n",
    "\n",
    "    pos_label = unique_y[1]\n",
    "    n_pos = np.sum(y_true == pos_label)\n",
    "\n",
    "    order = np.argsort(y_score)[::-1]\n",
    "    y_true = np.take(y_true, order[:k])\n",
    "    n_relevant = np.sum(y_true == pos_label)\n",
    "\n",
    "    # Divide by min(n_pos, k) such that the best achievable score is always 1.0.\n",
    "    return float(n_relevant) / min(n_pos, k)\n",
    "\n",
    "\n",
    "def average_precision_score(y_true, y_score, k=10):\n",
    "    \"\"\"Average precision at rank k\n",
    "\n",
    "    Parameters\n",
    "    ----------\n",
    "    y_true : array-like, shape = [n_samples]\n",
    "        Ground truth (true relevance labels).\n",
    "\n",
    "    y_score : array-like, shape = [n_samples]\n",
    "        Predicted scores.\n",
    "\n",
    "    k : int\n",
    "        Rank.\n",
    "\n",
    "    Returns\n",
    "    -------\n",
    "    average precision @k : float\n",
    "    \"\"\"\n",
    "    unique_y = np.unique(y_true)\n",
    "\n",
    "    if len(unique_y) > 2:\n",
    "        raise ValueError(\"Only supported for two relevance levels.\")\n",
    "\n",
    "    pos_label = unique_y[1]\n",
    "    n_pos = np.sum(y_true == pos_label)\n",
    "\n",
    "    order = np.argsort(y_score)[::-1][:min(n_pos, k)]\n",
    "    y_true = np.asarray(y_true)[order]\n",
    "\n",
    "    score = 0\n",
    "    for i in xrange(len(y_true)):\n",
    "        if y_true[i] == pos_label:\n",
    "            # Compute precision up to document i\n",
    "            # i.e, percentage of relevant documents up to document i.\n",
    "            prec = 0\n",
    "            for j in xrange(0, i + 1):\n",
    "                if y_true[j] == pos_label:\n",
    "                    prec += 1.0\n",
    "            prec /= (i + 1.0)\n",
    "            score += prec\n",
    "\n",
    "    if n_pos == 0:\n",
    "        return 0\n",
    "\n",
    "    return score / n_pos\n",
    "\n",
    "\n",
    "def dcg_score(y_true, y_score, k=10, gains=\"exponential\"):\n",
    "    \"\"\"Discounted cumulative gain (DCG) at rank k\n",
    "\n",
    "    Parameters\n",
    "    ----------\n",
    "    y_true : array-like, shape = [n_samples]\n",
    "        Ground truth (true relevance labels).\n",
    "\n",
    "    y_score : array-like, shape = [n_samples]\n",
    "        Predicted scores.\n",
    "\n",
    "    k : int\n",
    "        Rank.\n",
    "\n",
    "    gains : str\n",
    "        Whether gains should be \"exponential\" (default) or \"linear\".\n",
    "\n",
    "    Returns\n",
    "    -------\n",
    "    DCG @k : float\n",
    "    \"\"\"\n",
    "    order = np.argsort(y_score)[::-1]\n",
    "    y_true = np.take(y_true, order[:k])\n",
    "\n",
    "    if gains == \"exponential\":\n",
    "        gains = 2 ** y_true - 1\n",
    "    elif gains == \"linear\":\n",
    "        gains = y_true\n",
    "    else:\n",
    "        raise ValueError(\"Invalid gains option.\")\n",
    "\n",
    "    # highest rank is 1 so +2 instead of +1\n",
    "    discounts = np.log2(np.arange(len(y_true)) + 2)\n",
    "    return np.sum(gains / discounts)\n",
    "\n",
    "\n",
    "def ndcg_score(y_true, y_score, k=10, gains=\"exponential\"):\n",
    "    \"\"\"Normalized discounted cumulative gain (NDCG) at rank k\n",
    "\n",
    "    Parameters\n",
    "    ----------\n",
    "    y_true : array-like, shape = [n_samples]\n",
    "        Ground truth (true relevance labels).\n",
    "\n",
    "    y_score : array-like, shape = [n_samples]\n",
    "        Predicted scores.\n",
    "\n",
    "    k : int\n",
    "        Rank.\n",
    "\n",
    "    gains : str\n",
    "        Whether gains should be \"exponential\" (default) or \"linear\".\n",
    "\n",
    "    Returns\n",
    "    -------\n",
    "    NDCG @k : float\n",
    "    \"\"\"\n",
    "    best = dcg_score(y_true, y_true, k, gains)\n",
    "    actual = dcg_score(y_true, y_score, k, gains)\n",
    "    return actual / best\n",
    "\n",
    "\n",
    "# Alternative API.\n",
    "\n",
    "def dcg_from_ranking(y_true, ranking):\n",
    "    \"\"\"Discounted cumulative gain (DCG) at rank k\n",
    "\n",
    "    Parameters\n",
    "    ----------\n",
    "    y_true : array-like, shape = [n_samples]\n",
    "        Ground truth (true relevance labels).\n",
    "\n",
    "    ranking : array-like, shape = [k]\n",
    "        Document indices, i.e.,\n",
    "            ranking[0] is the index of top-ranked document,\n",
    "            ranking[1] is the index of second-ranked document,\n",
    "            ...\n",
    "\n",
    "    k : int\n",
    "        Rank.\n",
    "\n",
    "    Returns\n",
    "    -------\n",
    "    DCG @k : float\n",
    "    \"\"\"\n",
    "    y_true = np.asarray(y_true)\n",
    "    ranking = np.asarray(ranking)\n",
    "    rel = y_true[ranking]\n",
    "    gains = 2 ** rel - 1\n",
    "    discounts = np.log2(np.arange(len(ranking)) + 2)\n",
    "    return np.sum(gains / discounts)\n",
    "\n",
    "\n",
    "def ndcg_from_ranking(y_true, ranking):\n",
    "    \"\"\"Normalized discounted cumulative gain (NDCG) at rank k\n",
    "\n",
    "    Parameters\n",
    "    ----------\n",
    "    y_true : array-like, shape = [n_samples]\n",
    "        Ground truth (true relevance labels).\n",
    "\n",
    "    ranking : array-like, shape = [k]\n",
    "        Document indices, i.e.,\n",
    "            ranking[0] is the index of top-ranked document,\n",
    "            ranking[1] is the index of second-ranked document,\n",
    "            ...\n",
    "\n",
    "    k : int\n",
    "        Rank.\n",
    "\n",
    "    Returns\n",
    "    -------\n",
    "    NDCG @k : float\n",
    "    \"\"\"\n",
    "    k = len(ranking)\n",
    "    best_ranking = np.argsort(y_true)[::-1]\n",
    "    best = dcg_from_ranking(y_true, best_ranking[:k])\n",
    "    return dcg_from_ranking(y_true, ranking) / best\n",
    "\n",
    "\n",
    "if __name__ == '__main__':\n",
    "\n",
    "    # Check that some rankings are better than others\n",
    "    assert dcg_score([5, 3, 2], [2, 1, 0]) > dcg_score([4, 3, 2], [2, 1, 0])\n",
    "    assert dcg_score([4, 3, 2], [2, 1, 0]) > dcg_score([1, 3, 2], [2, 1, 0])\n",
    "\n",
    "    assert dcg_score([5, 3, 2], [2, 1, 0], k=2) > dcg_score([4, 3, 2], [2, 1, 0], k=2)\n",
    "    assert dcg_score([4, 3, 2], [2, 1, 0], k=2) > dcg_score([1, 3, 2], [2, 1, 0], k=2)\n",
    "\n",
    "    # Perfect rankings\n",
    "    assert ndcg_score([5, 3, 2], [2, 1, 0]) == 1.0\n",
    "    assert ndcg_score([2, 3, 5], [0, 1, 2]) == 1.0\n",
    "    assert ndcg_from_ranking([5, 3, 2], [0, 1, 2]) == 1.0\n",
    "\n",
    "    assert ndcg_score([5, 3, 2], [2, 1, 0], k=2) == 1.0\n",
    "    assert ndcg_score([2, 3, 5], [0, 1, 2], k=2) == 1.0\n",
    "    assert ndcg_from_ranking([5, 3, 2], [0, 1]) == 1.0\n",
    "\n",
    "    # Check that sample order is irrelevant\n",
    "    assert dcg_score([5, 3, 2], [2, 1, 0]) == dcg_score([2, 3, 5], [0, 1, 2])\n",
    "\n",
    "    assert dcg_score([5, 3, 2], [2, 1, 0], k=2) == dcg_score([2, 3, 5], [0, 1, 2], k=2)\n",
    "\n",
    "    # Check equivalence between two interfaces.\n",
    "    assert dcg_score([5, 3, 2], [2, 1, 0]) == dcg_from_ranking([5, 3, 2], [0, 1, 2])\n",
    "    assert dcg_score([1, 3, 2], [2, 1, 0]) == dcg_from_ranking([1, 3, 2], [0, 1, 2])\n",
    "    assert dcg_score([1, 3, 2], [0, 2, 1]) == dcg_from_ranking([1, 3, 2], [1, 2, 0])\n",
    "    assert ndcg_score([1, 3, 2], [2, 1, 0]) == ndcg_from_ranking([1, 3, 2], [0, 1, 2])\n",
    "\n",
    "    assert dcg_score([5, 3, 2], [2, 1, 0], k=2) == dcg_from_ranking([5, 3, 2], [0, 1])\n",
    "    assert dcg_score([1, 3, 2], [2, 1, 0], k=2) == dcg_from_ranking([1, 3, 2], [0, 1])\n",
    "    assert dcg_score([1, 3, 2], [0, 2, 1], k=2) == dcg_from_ranking([1, 3, 2], [1, 2])\n",
    "    assert ndcg_score([1, 3, 2], [2, 1, 0], k=2) == \\\n",
    "            ndcg_from_ranking([1, 3, 2], [0, 1])\n",
    "\n",
    "    # Precision\n",
    "    assert ranking_precision_score([1, 1, 0], [3, 2, 1], k=2) == 1.0\n",
    "    assert ranking_precision_score([1, 1, 0], [1, 0, 0.5], k=2) == 0.5\n",
    "    assert ranking_precision_score([1, 1, 0], [3, 2, 1], k=3) == \\\n",
    "            ranking_precision_score([1, 1, 0], [1, 0, 0.5], k=3)\n",
    "\n",
    "    # Average precision\n",
    "    from sklearn.metrics import average_precision_score as ap\n",
    "    assert average_precision_score([1, 1, 0], [3, 2, 1]) == ap([1, 1, 0], [3, 2, 1])\n",
    "    assert average_precision_score([1, 1, 0], [3, 1, 0]) == ap([1, 1, 0], [3, 1, 0])"
   ]
  }
 ],
 "metadata": {
  "kernelspec": {
   "display_name": "Python 2",
   "language": "python",
   "name": "python2"
  },
  "language_info": {
   "codemirror_mode": {
    "name": "ipython",
    "version": 2
   },
   "file_extension": ".py",
   "mimetype": "text/x-python",
   "name": "python",
   "nbconvert_exporter": "python",
   "pygments_lexer": "ipython2",
   "version": "2.7.10"
  }
 },
 "nbformat": 4,
 "nbformat_minor": 0
}
